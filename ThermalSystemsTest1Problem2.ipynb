{
  "nbformat": 4,
  "nbformat_minor": 0,
  "metadata": {
    "colab": {
      "name": "ThermalSystemsTest1Problem2",
      "provenance": [],
      "collapsed_sections": [],
      "authorship_tag": "ABX9TyMNrBSwlbIviB5Bs3/K5hZE",
      "include_colab_link": true
    },
    "kernelspec": {
      "name": "python3",
      "display_name": "Python 3"
    },
    "language_info": {
      "name": "python"
    }
  },
  "cells": [
    {
      "cell_type": "markdown",
      "metadata": {
        "id": "view-in-github",
        "colab_type": "text"
      },
      "source": [
        "<a href=\"https://colab.research.google.com/github/thathayhaykid/SeniorYear/blob/main/ThermalSystemsTest1Problem2.ipynb\" target=\"_parent\"><img src=\"https://colab.research.google.com/assets/colab-badge.svg\" alt=\"Open In Colab\"/></a>"
      ]
    },
    {
      "cell_type": "markdown",
      "metadata": {
        "id": "1XmiDryypb7m"
      },
      "source": [
        "#Thermal Systems Design Test 1\n",
        "\n",
        "#### Problem 2 Solution\n",
        "#### By: Haythem Mansour"
      ]
    },
    {
      "cell_type": "markdown",
      "metadata": {
        "id": "FHM8UqyhppVU"
      },
      "source": [
        "### Import Libraries"
      ]
    },
    {
      "cell_type": "code",
      "metadata": {
        "id": "vQvzCJcHpLBD"
      },
      "source": [
        "import numpy as np\n",
        "import sympy as sp"
      ],
      "execution_count": null,
      "outputs": []
    },
    {
      "cell_type": "markdown",
      "metadata": {
        "id": "Mcd9Y9qGP0lR"
      },
      "source": [
        "### Functions we build through the process"
      ]
    },
    {
      "cell_type": "code",
      "metadata": {
        "id": "OfXpM1PqP55S"
      },
      "source": [
        "def interpolate(x, Xlist, Ylist):\n",
        "  m = (Ylist[1] - Ylist[0]) / (Xlist[1] - Xlist[0])\n",
        "  return Ylist[0] + (m * (x - Xlist[0]))"
      ],
      "execution_count": null,
      "outputs": []
    },
    {
      "cell_type": "markdown",
      "metadata": {
        "id": "8IiBgiI1p5bY"
      },
      "source": [
        "## Define Givens"
      ]
    },
    {
      "cell_type": "code",
      "metadata": {
        "id": "3O7VesyupaQQ"
      },
      "source": [
        "P1 = 200 #kPa\n",
        "P3 = 1.4 #mPa\n",
        "effComp = 1"
      ],
      "execution_count": null,
      "outputs": []
    },
    {
      "cell_type": "code",
      "metadata": {
        "colab": {
          "base_uri": "https://localhost:8080/"
        },
        "id": "1LX7CV_RYY8Q",
        "outputId": "4e641742-ef53-452c-fda1-e4785a4184cf"
      },
      "source": [
        "print('P3: ', P3, 'kPa')"
      ],
      "execution_count": null,
      "outputs": [
        {
          "output_type": "stream",
          "name": "stdout",
          "text": [
            "P3:  1.4 kPa\n"
          ]
        }
      ]
    },
    {
      "cell_type": "markdown",
      "metadata": {
        "id": "yHy8BZTMYxJb"
      },
      "source": [
        "## Solve for h2s & h4"
      ]
    },
    {
      "cell_type": "code",
      "metadata": {
        "id": "VtXtsOereKbs"
      },
      "source": [
        "#Values from tables\n",
        "h1 = 244.46 #kJ / kg\n",
        "s1 = 0.93776 # kJ / kg * k\n",
        "\n",
        "h3 = 127.22 #kJ/kg\n",
        "\n",
        "s2 = s1\n",
        "h4 = h3"
      ],
      "execution_count": null,
      "outputs": []
    },
    {
      "cell_type": "code",
      "metadata": {
        "id": "v48i6K4PYvNp"
      },
      "source": [
        "sVals = [0.9105, 0.9389]\n",
        "hVals = [276.12, 285.47]\n",
        "h2s = interpolate(s1, sVals, hVals)"
      ],
      "execution_count": null,
      "outputs": []
    },
    {
      "cell_type": "code",
      "metadata": {
        "colab": {
          "base_uri": "https://localhost:8080/"
        },
        "id": "JiBc7cQkYnoB",
        "outputId": "c0561129-facc-456d-b372-ffb4192346bb"
      },
      "source": [
        "print('h2s: ', h2s, 'kJ / kg')"
      ],
      "execution_count": null,
      "outputs": [
        {
          "output_type": "stream",
          "name": "stdout",
          "text": [
            "h2s:  285.0946830985916 kJ / kg\n"
          ]
        }
      ]
    },
    {
      "cell_type": "markdown",
      "metadata": {
        "id": "jR0Hqm2afKXq"
      },
      "source": [
        "## Solve for h2, actual"
      ]
    },
    {
      "cell_type": "code",
      "metadata": {
        "id": "gdzDsqEAe4JQ"
      },
      "source": [
        "Wscomp = h2s - h1\n",
        "Wa = Wscomp / effComp\n",
        "h2a = h1 + Wa"
      ],
      "execution_count": null,
      "outputs": []
    },
    {
      "cell_type": "code",
      "metadata": {
        "colab": {
          "base_uri": "https://localhost:8080/"
        },
        "id": "lelZpFtefI3J",
        "outputId": "25303d14-b0c6-4574-f4ad-28b1d52fe0ec"
      },
      "source": [
        "print('Ws, comp: ', Wscomp, 'kJ/kg')\n",
        "print('Wa, comp: ', Wa, 'kJ/kg')\n",
        "print('h2, actual: ', h2a, 'kJ/kg')"
      ],
      "execution_count": null,
      "outputs": [
        {
          "output_type": "stream",
          "name": "stdout",
          "text": [
            "Ws, comp:  40.63468309859158 kJ/kg\n",
            "Wa, comp:  40.63468309859158 kJ/kg\n",
            "h2, actual:  285.0946830985916 kJ/kg\n"
          ]
        }
      ]
    },
    {
      "cell_type": "markdown",
      "metadata": {
        "id": "yvDIxVwngbZc"
      },
      "source": [
        "### Solve for COPr\n"
      ]
    },
    {
      "cell_type": "code",
      "metadata": {
        "id": "RWCoqt2PfXJP"
      },
      "source": [
        "ql = h1 - h4\n",
        "COPr = ql / Wa"
      ],
      "execution_count": null,
      "outputs": []
    },
    {
      "cell_type": "code",
      "metadata": {
        "colab": {
          "base_uri": "https://localhost:8080/"
        },
        "id": "Lg6vW77cghce",
        "outputId": "8ed2d282-ea9b-4649-f9d3-405b0e3bee72"
      },
      "source": [
        "print('ql: ', ql, 'kJ/kg')\n",
        "print('COPr', COPr)"
      ],
      "execution_count": null,
      "outputs": [
        {
          "output_type": "stream",
          "name": "stdout",
          "text": [
            "ql:  117.24000000000001 kJ/kg\n",
            "COPr 2.8852199909014082\n"
          ]
        }
      ]
    },
    {
      "cell_type": "code",
      "metadata": {
        "id": "rA_2H-SiFs6a"
      },
      "source": [
        ""
      ],
      "execution_count": null,
      "outputs": []
    }
  ]
}