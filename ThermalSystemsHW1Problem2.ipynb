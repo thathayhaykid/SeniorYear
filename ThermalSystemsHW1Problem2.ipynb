{
  "nbformat": 4,
  "nbformat_minor": 0,
  "metadata": {
    "colab": {
      "name": "ThermalSystemsHW1Problem2",
      "provenance": [],
      "collapsed_sections": [],
      "authorship_tag": "ABX9TyNd0PPgQrGZhKl/ZPDRemlT",
      "include_colab_link": true
    },
    "kernelspec": {
      "name": "python3",
      "display_name": "Python 3"
    },
    "language_info": {
      "name": "python"
    }
  },
  "cells": [
    {
      "cell_type": "markdown",
      "metadata": {
        "id": "view-in-github",
        "colab_type": "text"
      },
      "source": [
        "<a href=\"https://colab.research.google.com/github/thathayhaykid/SeniorYear/blob/main/ThermalSystemsHW1Problem2.ipynb\" target=\"_parent\"><img src=\"https://colab.research.google.com/assets/colab-badge.svg\" alt=\"Open In Colab\"/></a>"
      ]
    },
    {
      "cell_type": "code",
      "metadata": {
        "id": "C3KK1wBJGTZ2"
      },
      "source": [
        "# Thermal Systems Design HW 1\n",
        "# By Haythem Mansour"
      ],
      "execution_count": 15,
      "outputs": []
    },
    {
      "cell_type": "code",
      "metadata": {
        "id": "nuHuebKLGbhV"
      },
      "source": [
        "#Import libraries\n",
        "import numpy as np"
      ],
      "execution_count": 16,
      "outputs": []
    },
    {
      "cell_type": "code",
      "metadata": {
        "id": "dciM0dC4HUwP"
      },
      "source": [
        "#Start making functions to use throughout homework here!\n",
        "def convCtoK(celsius):\n",
        "  kelvin = celsius + 273.15\n",
        "  return kelvin\n",
        "\n",
        "def convKtoC(kelvin):\n",
        "  celsius = kelvin - 273.15\n",
        "  return celsius\n"
      ],
      "execution_count": 17,
      "outputs": []
    },
    {
      "cell_type": "code",
      "metadata": {
        "id": "hIzDVb_CGgaa"
      },
      "source": [
        "# PROBLEM 2\n",
        "# Define Givens\n",
        "T1 = float(-50) #C\n",
        "T3 = float(20) #C\n",
        "T4 = float(-50) #C\n",
        "T5 = float(20) #C\n",
        "\n",
        "P1 = 26.5 #kPa\n",
        "P2 = 85.0 #kPa\n",
        "P3 = 85.0 #kPa\n",
        "\n",
        "mdotair = 0.8 #kg/s\n",
        "effcomp = 0.75"
      ],
      "execution_count": 18,
      "outputs": []
    },
    {
      "cell_type": "code",
      "metadata": {
        "colab": {
          "base_uri": "https://localhost:8080/"
        },
        "id": "sHEGc1NsH772",
        "outputId": "e40d0745-f72c-46b4-fa9a-bbc22dc23405"
      },
      "source": [
        "#Convert to Kelvin\n",
        "T1 = convCtoK(T1)\n",
        "T3 = convCtoK(T3)\n",
        "T4 = convCtoK(T4)\n",
        "T5 = convCtoK(T5)\n",
        "print('T1:', T1, 'T3:', T3, 'T4:', T4, 'T5', T5)"
      ],
      "execution_count": 19,
      "outputs": [
        {
          "output_type": "stream",
          "text": [
            "T1: 223.14999999999998 T3: 293.15 T4: 223.14999999999998 T5 293.15\n"
          ],
          "name": "stdout"
        }
      ]
    },
    {
      "cell_type": "code",
      "metadata": {
        "id": "T6peBOY080e7",
        "colab": {
          "base_uri": "https://localhost:8080/"
        },
        "outputId": "87f1282a-928e-4c87-9d95-aeb5b1cfdff1"
      },
      "source": [
        "# Interpolate values from Table A-17 to get h1 and Pr1\n",
        "# Then solve for Pr2\n",
        "TempVals = [220, 230]\n",
        "hVals = [219.97, 230.02]\n",
        "PrVals = [0.4690, 0.5477]\n",
        "\n",
        "h1 = np.interp(T1, TempVals, hVals)\n",
        "Pr1 = np.interp(T1, TempVals, PrVals)\n",
        "print('h1:', h1)\n",
        "print('pr1:', Pr1)\n",
        "\n",
        "Pr2 = Pr1 * (P2/P1)\n",
        "print('Pr2:', Pr2)"
      ],
      "execution_count": 20,
      "outputs": [
        {
          "output_type": "stream",
          "text": [
            "h1: 223.13574999999997\n",
            "pr1: 0.4937904999999998\n",
            "Pr2: 1.5838563207547165\n"
          ],
          "name": "stdout"
        }
      ]
    },
    {
      "cell_type": "code",
      "metadata": {
        "colab": {
          "base_uri": "https://localhost:8080/"
        },
        "id": "w4FHK2XTDvAo",
        "outputId": "3411d8a0-91ef-4f8c-c941-f0992b38e27f"
      },
      "source": [
        "# Solve for T2s & H2s using interpolation\n",
        "PrVals = [1.5546, 1.6442]\n",
        "hVals = [310.24, 315.27]\n",
        "TempVals = [310, 315]\n",
        "\n",
        "h2s = np.interp(Pr2, PrVals, hVals)\n",
        "T2s = np.interp(Pr2, PrVals, TempVals)\n",
        "print('h2s:', h2s)\n",
        "print('T2s:', T2s)"
      ],
      "execution_count": 21,
      "outputs": [
        {
          "output_type": "stream",
          "text": [
            "h2s: 311.88240282808283\n",
            "T2s: 311.63260718497304\n"
          ],
          "name": "stdout"
        }
      ]
    },
    {
      "cell_type": "code",
      "metadata": {
        "colab": {
          "base_uri": "https://localhost:8080/"
        },
        "id": "tczloYPHFezQ",
        "outputId": "b1c37b3b-1b04-475f-d0ed-8139175d907f"
      },
      "source": [
        "# Solve for Ws & Wa & h2a\n",
        "Ws = h2s - h1\n",
        "Wa = Ws / effcomp\n",
        "h2 = Wa + h1\n",
        "\n",
        "print('Ws: ', Ws)\n",
        "print('Wa: ', Wa)\n",
        "print('h2: ', h2)"
      ],
      "execution_count": 23,
      "outputs": [
        {
          "output_type": "stream",
          "text": [
            "Ws:  88.74665282808286\n",
            "Wa:  118.32887043744381\n",
            "h2:  341.4646204374438\n"
          ],
          "name": "stdout"
        }
      ]
    },
    {
      "cell_type": "code",
      "metadata": {
        "colab": {
          "base_uri": "https://localhost:8080/"
        },
        "id": "fwq8_JMXG9sL",
        "outputId": "15555b6a-1a39-4b23-e62c-355dc84d6624"
      },
      "source": [
        "# Solve for T2 using interpolation & Solve for Wdotcompressor\n",
        "hVals = [340.42, 350.49]\n",
        "tempVals = [340, 350]\n",
        "T2 = np.interp(h2, hVals, tempVals)\n",
        "print('T2: ', T2, 'K OR ', convKtoC(T2), ' C')\n",
        "\n",
        "Wdotcomp = mdotair * Wa\n",
        "print('Wdotcomp:', Wdotcomp)"
      ],
      "execution_count": 26,
      "outputs": [
        {
          "output_type": "stream",
          "text": [
            "T2:  341.037358924969 K OR  67.88735892496902  C\n",
            "Wdotcomp: 94.66309634995505\n"
          ],
          "name": "stdout"
        }
      ]
    },
    {
      "cell_type": "code",
      "metadata": {
        "colab": {
          "base_uri": "https://localhost:8080/"
        },
        "id": "-1aDmZNjIOHA",
        "outputId": "696dd882-d55c-4187-c686-8e06128772b7"
      },
      "source": [
        "# Interpolate for h3\n",
        "hVals = [290.15, 295.17]\n",
        "tempVals = [290, 295]\n",
        "h3 = np.interp(T3, tempVals, hVals)\n",
        "print('h3:', h3)"
      ],
      "execution_count": 27,
      "outputs": [
        {
          "output_type": "stream",
          "text": [
            "h3: 293.3126\n"
          ],
          "name": "stdout"
        }
      ]
    },
    {
      "cell_type": "code",
      "metadata": {
        "colab": {
          "base_uri": "https://localhost:8080/"
        },
        "id": "TsUVK2vZJslL",
        "outputId": "206e1cd9-67f7-4419-a0da-3215a2e24153"
      },
      "source": [
        "# Solve for Qdot\n",
        "Qdot = mdotair * (h2 - h3)\n",
        "print('Qdot:', Qdot)"
      ],
      "execution_count": 29,
      "outputs": [
        {
          "output_type": "stream",
          "text": [
            "Qdot: 38.52161634995505\n"
          ],
          "name": "stdout"
        }
      ]
    },
    {
      "cell_type": "code",
      "metadata": {
        "colab": {
          "base_uri": "https://localhost:8080/"
        },
        "id": "OkC-6DMJKrKw",
        "outputId": "21dcd3b2-8bdf-4e6a-9fd0-2ed0fff07ba9"
      },
      "source": [
        "# Get h4 & h5\n",
        "h4 = h1\n",
        "h5 = h3\n",
        "\n",
        "mdotair45 = Qdot / (h5 - h4)\n",
        "print(mdotair45)"
      ],
      "execution_count": 30,
      "outputs": [
        {
          "output_type": "stream",
          "text": [
            "0.5489219927932795\n"
          ],
          "name": "stdout"
        }
      ]
    },
    {
      "cell_type": "code",
      "metadata": {
        "id": "hCfrGIIiMhp5"
      },
      "source": [
        ""
      ],
      "execution_count": null,
      "outputs": []
    }
  ]
}