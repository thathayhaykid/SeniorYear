{
  "nbformat": 4,
  "nbformat_minor": 0,
  "metadata": {
    "colab": {
      "name": "ThermalsSystemsHW4Problemx3-10",
      "provenance": [],
      "collapsed_sections": [],
      "authorship_tag": "ABX9TyOyoNu/NVyWtNZdZLX60GOa",
      "include_colab_link": true
    },
    "kernelspec": {
      "name": "python3",
      "display_name": "Python 3"
    },
    "language_info": {
      "name": "python"
    }
  },
  "cells": [
    {
      "cell_type": "markdown",
      "metadata": {
        "id": "view-in-github",
        "colab_type": "text"
      },
      "source": [
        "<a href=\"https://colab.research.google.com/github/thathayhaykid/SeniorYear/blob/main/ThermalsSystemsHW4Problemx3_10.ipynb\" target=\"_parent\"><img src=\"https://colab.research.google.com/assets/colab-badge.svg\" alt=\"Open In Colab\"/></a>"
      ]
    },
    {
      "cell_type": "markdown",
      "metadata": {
        "id": "1XmiDryypb7m"
      },
      "source": [
        "#Thermal Systems Design Homework 4\n",
        "\n",
        "#### Problem X3-10 Solution\n",
        "#### By: Haythem Mansour"
      ]
    },
    {
      "cell_type": "markdown",
      "metadata": {
        "id": "FHM8UqyhppVU"
      },
      "source": [
        "### Import Libraries"
      ]
    },
    {
      "cell_type": "code",
      "metadata": {
        "id": "vQvzCJcHpLBD"
      },
      "source": [
        "import numpy as np\n",
        "import sympy as sp"
      ],
      "execution_count": null,
      "outputs": []
    },
    {
      "cell_type": "markdown",
      "metadata": {
        "id": "Mcd9Y9qGP0lR"
      },
      "source": [
        "### Functions we build through the process"
      ]
    },
    {
      "cell_type": "code",
      "metadata": {
        "id": "OfXpM1PqP55S"
      },
      "source": [
        "def interpolate(x, Xlist, Ylist):\n",
        "  m = (Ylist[1] - Ylist[0]) / (Xlist[1] - Xlist[0])\n",
        "  return Ylist[0] + (m * (x - Xlist[0]))"
      ],
      "execution_count": null,
      "outputs": []
    },
    {
      "cell_type": "markdown",
      "metadata": {
        "id": "8IiBgiI1p5bY"
      },
      "source": [
        "## Define Givens"
      ]
    },
    {
      "cell_type": "code",
      "metadata": {
        "id": "3O7VesyupaQQ"
      },
      "source": [
        "P1 = 160 #kPa\n",
        "P3 = 1.2 #mPa\n",
        "effComp = 1\n",
        "mdotair = .3 #kg/s"
      ],
      "execution_count": null,
      "outputs": []
    },
    {
      "cell_type": "code",
      "metadata": {
        "colab": {
          "base_uri": "https://localhost:8080/"
        },
        "id": "1LX7CV_RYY8Q",
        "outputId": "22f1eadd-d54b-4b5c-bd51-100ebb130d88"
      },
      "source": [
        "print('P3: ', P3, 'kPa')\n",
        "print('mdotair: ', mdotair, 'kg/s')"
      ],
      "execution_count": null,
      "outputs": [
        {
          "output_type": "stream",
          "name": "stdout",
          "text": [
            "P3:  1.2 kPa\n",
            "mdotair:  0.3 kg/s\n"
          ]
        }
      ]
    },
    {
      "cell_type": "markdown",
      "metadata": {
        "id": "yHy8BZTMYxJb"
      },
      "source": [
        "## Solve for h2s & h4"
      ]
    },
    {
      "cell_type": "code",
      "metadata": {
        "id": "VtXtsOereKbs"
      },
      "source": [
        "#Values from tables\n",
        "h1 = 241.11 #kJ / kg\n",
        "s1 = 0.94190 # kJ / kg * k\n",
        "\n",
        "h3 = 117.77 #kJ/kg\n",
        "s3 = 0.42441 #kJ / kg * k\n",
        "\n",
        "s2 = s1\n",
        "h4 = h3"
      ],
      "execution_count": null,
      "outputs": []
    },
    {
      "cell_type": "code",
      "metadata": {
        "id": "v48i6K4PYvNp"
      },
      "source": [
        "sVals = [0.9267, 0.9614]\n",
        "hVals = [278.27, 289.64]\n",
        "h2s = interpolate(s1, sVals, hVals)"
      ],
      "execution_count": null,
      "outputs": []
    },
    {
      "cell_type": "code",
      "metadata": {
        "colab": {
          "base_uri": "https://localhost:8080/"
        },
        "id": "JiBc7cQkYnoB",
        "outputId": "f83fc6bf-eca0-4223-ad3e-ce679ea35c93"
      },
      "source": [
        "print('h2s: ', h2s, 'kJ / kg')"
      ],
      "execution_count": null,
      "outputs": [
        {
          "output_type": "stream",
          "name": "stdout",
          "text": [
            "h2s:  283.25051873198845 kJ / kg\n"
          ]
        }
      ]
    },
    {
      "cell_type": "markdown",
      "metadata": {
        "id": "jR0Hqm2afKXq"
      },
      "source": [
        "## Solve for h2, actual"
      ]
    },
    {
      "cell_type": "code",
      "metadata": {
        "id": "gdzDsqEAe4JQ"
      },
      "source": [
        "Wscomp = h2s - h1\n",
        "Wa = Wscomp / effComp\n",
        "h2a = h1 + Wa"
      ],
      "execution_count": null,
      "outputs": []
    },
    {
      "cell_type": "code",
      "metadata": {
        "colab": {
          "base_uri": "https://localhost:8080/"
        },
        "id": "lelZpFtefI3J",
        "outputId": "ce7ad7e6-4140-42eb-ac33-1ed6a0f0620e"
      },
      "source": [
        "print('Ws, comp: ', Wscomp, 'kJ/kg')\n",
        "print('Wa, comp: ', Wa, 'kJ/kg')\n",
        "print('h2, actual: ', h2a, 'kJ/kg')"
      ],
      "execution_count": null,
      "outputs": [
        {
          "output_type": "stream",
          "name": "stdout",
          "text": [
            "Ws, comp:  42.140518731988436 kJ/kg\n",
            "Wa, comp:  42.140518731988436 kJ/kg\n",
            "h2, actual:  283.25051873198845 kJ/kg\n"
          ]
        }
      ]
    },
    {
      "cell_type": "markdown",
      "metadata": {
        "id": "43KBMUrBgKzw"
      },
      "source": [
        "## Solve for T2, actual"
      ]
    },
    {
      "cell_type": "code",
      "metadata": {
        "id": "2zn0_ZkLgNXy"
      },
      "source": [
        "hVals = [278.27, 289.64]\n",
        "TVals = [50, 60]\n",
        "\n",
        "T2 = interpolate(h2a, hVals, TVals)"
      ],
      "execution_count": null,
      "outputs": []
    },
    {
      "cell_type": "code",
      "metadata": {
        "colab": {
          "base_uri": "https://localhost:8080/"
        },
        "id": "ygf6spo5gcGg",
        "outputId": "7da60436-0c4c-47bd-ac28-ba439adb6dd0"
      },
      "source": [
        "print('T2, a: ', T2, 'Degrees C')"
      ],
      "execution_count": null,
      "outputs": [
        {
          "output_type": "stream",
          "name": "stdout",
          "text": [
            "T2, a:  54.38040345821325 Degrees C\n"
          ]
        }
      ]
    },
    {
      "cell_type": "markdown",
      "metadata": {
        "id": "_zcuJCsygUUb"
      },
      "source": [
        "## Solve for Wdot, comp"
      ]
    },
    {
      "cell_type": "markdown",
      "metadata": {
        "id": "yvDIxVwngbZc"
      },
      "source": [
        "### Solve for COPr\n"
      ]
    },
    {
      "cell_type": "code",
      "metadata": {
        "id": "RWCoqt2PfXJP"
      },
      "source": [
        "COPr = (h1 - h4) / Wa"
      ],
      "execution_count": null,
      "outputs": []
    },
    {
      "cell_type": "code",
      "metadata": {
        "colab": {
          "base_uri": "https://localhost:8080/"
        },
        "id": "Lg6vW77cghce",
        "outputId": "23bd4d1e-fa43-48e2-82de-0de6c97af9ed"
      },
      "source": [
        "print('COPr', COPr)"
      ],
      "execution_count": null,
      "outputs": [
        {
          "output_type": "stream",
          "name": "stdout",
          "text": [
            "COPr 2.9268742699736605\n"
          ]
        }
      ]
    },
    {
      "cell_type": "markdown",
      "metadata": {
        "id": "fDuUXN5cgqkK"
      },
      "source": [
        "### Solve for Qdot, cool"
      ]
    },
    {
      "cell_type": "markdown",
      "metadata": {
        "id": "WVoBAtB3iMsv"
      },
      "source": [
        "#### Get average Values"
      ]
    },
    {
      "cell_type": "code",
      "metadata": {
        "id": "iir06uBZgmlP"
      },
      "source": [
        "Tin = 40\n",
        "Tout = -5\n",
        "TinK = Tin + 273.15\n",
        "ToutK = Tout + 273.15\n",
        "Tavg = (Tin + Tout)/2\n",
        "TavgK = Tavg + 273.15"
      ],
      "execution_count": null,
      "outputs": []
    },
    {
      "cell_type": "code",
      "metadata": {
        "colab": {
          "base_uri": "https://localhost:8080/"
        },
        "id": "s50Km-MohNUU",
        "outputId": "ad674886-33b2-4f93-e9b1-42fbfc675b18"
      },
      "source": [
        "print('Tavg, C: ', Tavg, 'C')\n",
        "print('Tavg, K: ', TavgK, 'K')\n",
        "print('Tin, K: ', TinK, 'K')\n",
        "print('Tout, K: ', ToutK, 'K')"
      ],
      "execution_count": null,
      "outputs": [
        {
          "output_type": "stream",
          "name": "stdout",
          "text": [
            "Tavg, C:  17.5 C\n",
            "Tavg, K:  290.65 K\n",
            "Tin, K:  313.15 K\n",
            "Tout, K:  268.15 K\n"
          ]
        }
      ]
    },
    {
      "cell_type": "code",
      "metadata": {
        "id": "CkAmfzLziAs-"
      },
      "source": [
        "Cpair = 1.005 #kj/kg * k\n",
        "k = 1.400"
      ],
      "execution_count": null,
      "outputs": []
    },
    {
      "cell_type": "markdown",
      "metadata": {
        "id": "rM0IEQoTifZB"
      },
      "source": [
        "#### Actually solve for Qdotcool"
      ]
    },
    {
      "cell_type": "code",
      "metadata": {
        "id": "qARUcNrwid6i"
      },
      "source": [
        "Qdotcool = mdotair * Cpair * (Tin - Tout)"
      ],
      "execution_count": null,
      "outputs": []
    },
    {
      "cell_type": "code",
      "metadata": {
        "colab": {
          "base_uri": "https://localhost:8080/"
        },
        "id": "IQOUgyRViuGg",
        "outputId": "35d91362-72c7-4b47-d3c5-ef4b4c856a88"
      },
      "source": [
        "print(\"Qdot, cool: \", Qdotcool, 'kW')"
      ],
      "execution_count": null,
      "outputs": [
        {
          "output_type": "stream",
          "name": "stdout",
          "text": [
            "Qdot, cool:  13.567499999999997 kW\n"
          ]
        }
      ]
    },
    {
      "cell_type": "markdown",
      "metadata": {
        "id": "KKOqHGXdi0Al"
      },
      "source": [
        "## Solve for Wdot, Comp"
      ]
    },
    {
      "cell_type": "code",
      "metadata": {
        "id": "XGEOLjmeixdu"
      },
      "source": [
        "Wdotcomp = Qdotcool / COPr"
      ],
      "execution_count": null,
      "outputs": []
    },
    {
      "cell_type": "code",
      "metadata": {
        "colab": {
          "base_uri": "https://localhost:8080/"
        },
        "id": "zmd5HEWii3x8",
        "outputId": "c4140890-73ee-4206-da07-fa23ed274d30"
      },
      "source": [
        "print('Wdotcomp', Wdotcomp, 'kW')"
      ],
      "execution_count": null,
      "outputs": [
        {
          "output_type": "stream",
          "name": "stdout",
          "text": [
            "Wdotcomp 4.6354912266600685 kW\n"
          ]
        }
      ]
    },
    {
      "cell_type": "markdown",
      "metadata": {
        "id": "nF969Y9SFh2q"
      },
      "source": [
        "## Solve for net rate of entropy change of the system"
      ]
    },
    {
      "cell_type": "code",
      "metadata": {
        "id": "-Zn49da0i6dV"
      },
      "source": [
        "# np.log is the natural log function from the numpy library\n",
        "Sdotair = mdotair * (Cpair * (np.log(ToutK/TinK)))"
      ],
      "execution_count": null,
      "outputs": []
    },
    {
      "cell_type": "code",
      "metadata": {
        "colab": {
          "base_uri": "https://localhost:8080/"
        },
        "id": "BGWDYB3-F905",
        "outputId": "2f0b8a97-1eac-4572-ba25-1c795d1a495d"
      },
      "source": [
        "print('Sdotair: ', Sdotair, 'kJ / (kg * K)')"
      ],
      "execution_count": null,
      "outputs": [
        {
          "output_type": "stream",
          "name": "stdout",
          "text": [
            "Sdotair:  -0.04677343873806001 kJ / (kg * K)\n"
          ]
        }
      ]
    },
    {
      "cell_type": "code",
      "metadata": {
        "id": "YMy5uyOeGN59"
      },
      "source": [
        ""
      ],
      "execution_count": null,
      "outputs": []
    }
  ]
}