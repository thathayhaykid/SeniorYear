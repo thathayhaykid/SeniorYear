{
  "nbformat": 4,
  "nbformat_minor": 0,
  "metadata": {
    "colab": {
      "name": "ThermalsSystemsHW4Problemx3-11",
      "provenance": [],
      "collapsed_sections": [],
      "authorship_tag": "ABX9TyMJ4i5Fnc56i13fckDFvknM",
      "include_colab_link": true
    },
    "kernelspec": {
      "name": "python3",
      "display_name": "Python 3"
    },
    "language_info": {
      "name": "python"
    }
  },
  "cells": [
    {
      "cell_type": "markdown",
      "metadata": {
        "id": "view-in-github",
        "colab_type": "text"
      },
      "source": [
        "<a href=\"https://colab.research.google.com/github/thathayhaykid/SeniorYear/blob/main/ThermalsSystemsHW4Problemx3_11.ipynb\" target=\"_parent\"><img src=\"https://colab.research.google.com/assets/colab-badge.svg\" alt=\"Open In Colab\"/></a>"
      ]
    },
    {
      "cell_type": "markdown",
      "metadata": {
        "id": "1XmiDryypb7m"
      },
      "source": [
        "#Thermal Systems Design Homework 4\n",
        "\n",
        "#### Problem X3-11 Solution\n",
        "#### By: Haythem Mansour"
      ]
    },
    {
      "cell_type": "markdown",
      "metadata": {
        "id": "FHM8UqyhppVU"
      },
      "source": [
        "### Import Libraries"
      ]
    },
    {
      "cell_type": "code",
      "metadata": {
        "id": "vQvzCJcHpLBD"
      },
      "source": [
        "import numpy as np\n",
        "import sympy as sp"
      ],
      "execution_count": 8,
      "outputs": []
    },
    {
      "cell_type": "markdown",
      "metadata": {
        "id": "Mcd9Y9qGP0lR"
      },
      "source": [
        "### Functions we build through the process"
      ]
    },
    {
      "cell_type": "code",
      "metadata": {
        "id": "OfXpM1PqP55S"
      },
      "source": [
        "def interpolate(x, Xlist, Ylist):\n",
        "  m = (Ylist[1] - Ylist[0]) / (Xlist[1] - Xlist[0])\n",
        "  return Ylist[0] + (m * (x - Xlist[0]))"
      ],
      "execution_count": 9,
      "outputs": []
    },
    {
      "cell_type": "markdown",
      "metadata": {
        "id": "8IiBgiI1p5bY"
      },
      "source": [
        "## Define Givens"
      ]
    },
    {
      "cell_type": "code",
      "metadata": {
        "id": "D838RT-ZCXwj"
      },
      "source": [
        "Vdotair = 1000 #SCFM\n",
        "P1 = 30 #psia\n",
        "P3 = 160 #psai\n",
        "effComp = 0.85"
      ],
      "execution_count": 10,
      "outputs": []
    },
    {
      "cell_type": "markdown",
      "metadata": {
        "id": "niDqMfXdkXGa"
      },
      "source": [
        "## Get values from Tables"
      ]
    },
    {
      "cell_type": "code",
      "metadata": {
        "id": "XfjfeM6fkWC-"
      },
      "source": [
        "h1 = 105.32 #Btu / lbm\n",
        "s1 = 0.22383 # Btu / (lbm * R)\n",
        "h3 = 48.519 #Btu / lbm\n",
        "s3 = 0.09774 #Btu / (lbm * R)"
      ],
      "execution_count": 11,
      "outputs": []
    },
    {
      "cell_type": "markdown",
      "metadata": {
        "id": "YEZjTEpxkpNc"
      },
      "source": [
        "## Solve for h2a"
      ]
    },
    {
      "cell_type": "code",
      "metadata": {
        "id": "-kXUJknPkl20"
      },
      "source": [
        "s2s = s1"
      ],
      "execution_count": 12,
      "outputs": []
    },
    {
      "cell_type": "code",
      "metadata": {
        "id": "-hLfC3Q2konm"
      },
      "source": [
        "sVals = [0.22337, 0.23230]\n",
        "hVals = [120.06, 125.32]\n",
        "h2s = interpolate(s2s, sVals, hVals)"
      ],
      "execution_count": 15,
      "outputs": []
    },
    {
      "cell_type": "code",
      "metadata": {
        "id": "un-jH0fhlZOJ"
      },
      "source": [
        "ws = h2s - h1\n",
        "wa = ws / effComp"
      ],
      "execution_count": 19,
      "outputs": []
    },
    {
      "cell_type": "code",
      "metadata": {
        "id": "b3bYVYvjmHUb"
      },
      "source": [
        "h2a = wa + h1"
      ],
      "execution_count": 21,
      "outputs": []
    },
    {
      "cell_type": "code",
      "metadata": {
        "colab": {
          "base_uri": "https://localhost:8080/"
        },
        "id": "l1f_VDrMk8r-",
        "outputId": "a9aa698f-66be-492d-ab49-83ee3005419d"
      },
      "source": [
        "print(\"h2s: \", h2s, 'Btu / lbm')\n",
        "print('ws: ', ws, 'Btu / lbm')\n",
        "print('wa: ', wa, 'Btu / lbm')\n",
        "print('h2a :', h2a, 'Btu / lbm')"
      ],
      "execution_count": 23,
      "outputs": [
        {
          "output_type": "stream",
          "name": "stdout",
          "text": [
            "h2s:  120.33095184770436 Btu / lbm\n",
            "ws:  15.010951847704362 Btu / lbm\n",
            "wa:  17.659943350240425 Btu / lbm\n",
            "h2a : 122.97994335024042 Btu / lbm\n"
          ]
        }
      ]
    },
    {
      "cell_type": "markdown",
      "metadata": {
        "id": "kyYzuyZ8m6y7"
      },
      "source": [
        "## Solve for COPhp"
      ]
    },
    {
      "cell_type": "code",
      "metadata": {
        "id": "2kLr3wWAlKfx"
      },
      "source": [
        "COPhp = (h2a - h3) / wa"
      ],
      "execution_count": 24,
      "outputs": []
    },
    {
      "cell_type": "code",
      "metadata": {
        "colab": {
          "base_uri": "https://localhost:8080/"
        },
        "id": "aF_wyLPxm-7C",
        "outputId": "63b915fd-5087-4eab-f78c-c1737a89c98c"
      },
      "source": [
        "print('COPhp :', COPhp)"
      ],
      "execution_count": 25,
      "outputs": [
        {
          "output_type": "stream",
          "name": "stdout",
          "text": [
            "COPhp : 4.216374983401445\n"
          ]
        }
      ]
    },
    {
      "cell_type": "markdown",
      "metadata": {
        "id": "8xeoTrq0qCuk"
      },
      "source": [
        "## Start solving for Wdotcomp"
      ]
    },
    {
      "cell_type": "markdown",
      "metadata": {
        "id": "gHjVrg1BqF78"
      },
      "source": [
        "### Solve for mdotair"
      ]
    },
    {
      "cell_type": "code",
      "metadata": {
        "id": "mQ0WTxi8nCCS"
      },
      "source": [
        "Pstd = 14.696 #psia\n",
        "Tstd = 68 #F\n",
        "Tstd = Tstd + 459.67 #R\n",
        "R = 0.3704"
      ],
      "execution_count": 29,
      "outputs": []
    },
    {
      "cell_type": "code",
      "metadata": {
        "id": "I_VRM3_dn_wU"
      },
      "source": [
        "densityAir = Pstd / (R * Tstd)"
      ],
      "execution_count": 30,
      "outputs": []
    },
    {
      "cell_type": "code",
      "metadata": {
        "id": "2ycmfeHGoZ-R"
      },
      "source": [
        "mdotair = densityAir * Vdotair\n",
        "mdotairhr = mdotair * 60"
      ],
      "execution_count": 35,
      "outputs": []
    },
    {
      "cell_type": "code",
      "metadata": {
        "colab": {
          "base_uri": "https://localhost:8080/"
        },
        "id": "4UNsJpbroJkh",
        "outputId": "9fa1c412-b60d-4d0e-b8f8-ffb42af2d4bd"
      },
      "source": [
        "print('Air Density: ', densityAir, 'lbm / ft^3')\n",
        "print('mdotair: ', mdotair, 'lbm / min')\n",
        "print('mdotair: ', mdotairhr, 'lbm / hr')"
      ],
      "execution_count": 37,
      "outputs": [
        {
          "output_type": "stream",
          "name": "stdout",
          "text": [
            "Air Density:  0.07519098284519976 lbm / ft^3\n",
            "mdotair:  75.19098284519976 lbm / min\n",
            "mdotair:  4511.458970711985 lbm / hr\n"
          ]
        }
      ]
    },
    {
      "cell_type": "markdown",
      "metadata": {
        "id": "Kx9jdmOiqITN"
      },
      "source": [
        "### Solve for Cpair"
      ]
    },
    {
      "cell_type": "code",
      "metadata": {
        "id": "8vVeO2IooRGU"
      },
      "source": [
        "Tin = 40 #F\n",
        "Tout = 90 #F\n",
        "Tavg = (Tin + Tout) / 2"
      ],
      "execution_count": 38,
      "outputs": []
    },
    {
      "cell_type": "code",
      "metadata": {
        "colab": {
          "base_uri": "https://localhost:8080/"
        },
        "id": "T1_5SzLPqPz-",
        "outputId": "470586df-9b7f-4ab1-a319-1ba79a1b38de"
      },
      "source": [
        "print('Tavg: ', Tavg, 'F')"
      ],
      "execution_count": 39,
      "outputs": [
        {
          "output_type": "stream",
          "name": "stdout",
          "text": [
            "Tavg:  65.0 F\n"
          ]
        }
      ]
    },
    {
      "cell_type": "code",
      "metadata": {
        "id": "mMAhheBaqSF4"
      },
      "source": [
        "Cpair = 0.240 # Btu / lbm * R"
      ],
      "execution_count": 40,
      "outputs": []
    },
    {
      "cell_type": "code",
      "metadata": {
        "id": "Oo-g3BGLqzG2"
      },
      "source": [
        "Qdotheat = mdotairhr * Cpair * (Tout - Tin)"
      ],
      "execution_count": 45,
      "outputs": []
    },
    {
      "cell_type": "code",
      "metadata": {
        "colab": {
          "base_uri": "https://localhost:8080/"
        },
        "id": "keh24v7Mq2Ar",
        "outputId": "4641d0cd-15ae-421c-be1a-663a196c5445"
      },
      "source": [
        "print('Qdotheat: ', Qdotheat, 'Btu / hr')"
      ],
      "execution_count": 46,
      "outputs": [
        {
          "output_type": "stream",
          "name": "stdout",
          "text": [
            "Qdotheat:  54137.50764854382 Btu / hr\n"
          ]
        }
      ]
    },
    {
      "cell_type": "markdown",
      "metadata": {
        "id": "QDQSjw7irbSa"
      },
      "source": [
        "### Solve for Wdotcomp"
      ]
    },
    {
      "cell_type": "code",
      "metadata": {
        "id": "TBR_6OqPq6oV"
      },
      "source": [
        "Wdotcomp = Qdotheat / COPhp\n",
        "Wdotcomphp = Wdotcomp * (1.341 / 3412.14)"
      ],
      "execution_count": 51,
      "outputs": []
    },
    {
      "cell_type": "code",
      "metadata": {
        "colab": {
          "base_uri": "https://localhost:8080/"
        },
        "id": "TQqwSAFnre2Z",
        "outputId": "e52a0f37-0a36-4893-e101-c8bef14c5fc1"
      },
      "source": [
        "print('Wdotcomp: ', Wdotcomp, 'Btu / hr')\n",
        "print('Wdotcomp: ', Wdotcomphp, 'hp')"
      ],
      "execution_count": 53,
      "outputs": [
        {
          "output_type": "stream",
          "name": "stdout",
          "text": [
            "Wdotcomp:  12839.822800786535 Btu / hr\n",
            "Wdotcomp:  5.046159411939352 hp\n"
          ]
        }
      ]
    },
    {
      "cell_type": "code",
      "metadata": {
        "id": "VfzmlbsIrirS"
      },
      "source": [
        ""
      ],
      "execution_count": null,
      "outputs": []
    }
  ]
}