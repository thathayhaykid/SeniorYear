{
  "nbformat": 4,
  "nbformat_minor": 0,
  "metadata": {
    "colab": {
      "name": "ThermalSystemsHW1Problem4",
      "provenance": [],
      "collapsed_sections": [],
      "authorship_tag": "ABX9TyMI57ezsl460O95fZYnk4KI",
      "include_colab_link": true
    },
    "kernelspec": {
      "name": "python3",
      "display_name": "Python 3"
    },
    "language_info": {
      "name": "python"
    }
  },
  "cells": [
    {
      "cell_type": "markdown",
      "metadata": {
        "id": "view-in-github",
        "colab_type": "text"
      },
      "source": [
        "<a href=\"https://colab.research.google.com/github/thathayhaykid/SeniorYear/blob/main/ThermalSystemsHW1Problem4.ipynb\" target=\"_parent\"><img src=\"https://colab.research.google.com/assets/colab-badge.svg\" alt=\"Open In Colab\"/></a>"
      ]
    },
    {
      "cell_type": "code",
      "metadata": {
        "id": "aZAzhIvH1k9p"
      },
      "source": [
        "# Thermal Systems Design HW 1\n",
        "# By Haythem Mansour"
      ],
      "execution_count": null,
      "outputs": []
    },
    {
      "cell_type": "code",
      "metadata": {
        "id": "TLmENt_C1mB0"
      },
      "source": [
        "# Import libraries\n",
        "import numpy as np\n",
        "import sympy as sp"
      ],
      "execution_count": null,
      "outputs": []
    },
    {
      "cell_type": "code",
      "metadata": {
        "id": "Ka3XxY0f1nDG"
      },
      "source": [
        "# Start making functions to use throughout homework here!\n",
        "def convCtoK(celsius):\n",
        "  kelvin = celsius + 273.15\n",
        "  return kelvin\n",
        "\n",
        "def convKtoC(kelvin):\n",
        "  celsius = kelvin - 273.15\n",
        "  return celsius\n"
      ],
      "execution_count": null,
      "outputs": []
    },
    {
      "cell_type": "code",
      "metadata": {
        "id": "2Dwa5xNY1oT9",
        "colab": {
          "base_uri": "https://localhost:8080/"
        },
        "outputId": "9043a703-fb6a-482e-aa11-11070dfc3e80"
      },
      "source": [
        "# Define Givens\n",
        "P1 = 230 # kPa\n",
        "T1 = 600 # ºC\n",
        "T1 = convCtoK(T1) #ºK\n",
        "V1 = 60  # m/s\n",
        "\n",
        "P2 = 70 #kPa\n",
        "T2 = 450 # ºC\n",
        "T2 = convCtoK(T2) #ºK\n",
        "\n",
        "print('Temp 1: ', T1, 'K')\n",
        "print('Temp 2: ', T2, 'K')"
      ],
      "execution_count": null,
      "outputs": [
        {
          "output_type": "stream",
          "name": "stdout",
          "text": [
            "Temp 1:  873.15 K\n",
            "Temp 2:  723.15 K\n"
          ]
        }
      ]
    },
    {
      "cell_type": "code",
      "metadata": {
        "colab": {
          "base_uri": "https://localhost:8080/"
        },
        "id": "nL4qJoUiG4Pa",
        "outputId": "083bda0c-4233-48cd-cf3b-29225d6f9474"
      },
      "source": [
        "#Solve for enthalpy values for T1 & T2\n",
        "temp1Vals = [860, 880]\n",
        "temp2Vals = [720, 730]\n",
        "\n",
        "h1Vals = [888.27, 910.56]\n",
        "h2Vals = [734.82, 745.62]\n",
        "\n",
        "h1 = np.interp(T1, temp1Vals, h1Vals) # KJ / (kg * K)\n",
        "h2 = np.interp(T2, temp2Vals, h2Vals) # KJ / (kg * K)\n",
        "\n",
        "print('h1: ', h1, 'kJ / (kg * K)')\n",
        "print('h2: ', h2, 'kJ / (kg * K)')\n",
        "\n",
        "h1 = h1 * 1000 # J / (kg * K)\n",
        "h2 = h2 * 1000 # J / (kg * K)\n",
        "\n",
        "print('h1: ', h1, 'J / (kg * K)')\n",
        "print('h2: ', h2, 'J / (kg * K)')"
      ],
      "execution_count": null,
      "outputs": [
        {
          "output_type": "stream",
          "name": "stdout",
          "text": [
            "h1:  902.925675 kJ / (kg * K)\n",
            "h2:  738.222 kJ / (kg * K)\n",
            "h1:  902925.6749999999 J / (kg * K)\n",
            "h2:  738222.0 J / (kg * K)\n"
          ]
        }
      ]
    },
    {
      "cell_type": "code",
      "metadata": {
        "colab": {
          "base_uri": "https://localhost:8080/"
        },
        "id": "KoOtZxBP2Mos",
        "outputId": "cf5e7edb-18b4-4f56-c0de-c2a7666eed36"
      },
      "source": [
        "# Solve for exit velocity\n",
        "V2 = np.sqrt((V1**2) + (2 * (h1 - h2)))\n",
        "print('Exit Velocity: ', V2, 'm/s')"
      ],
      "execution_count": null,
      "outputs": [
        {
          "output_type": "stream",
          "name": "stdout",
          "text": [
            "Exit Velocity:  577.0678902867494 m/s\n"
          ]
        }
      ]
    },
    {
      "cell_type": "code",
      "metadata": {
        "colab": {
          "base_uri": "https://localhost:8080/"
        },
        "id": "hsTCOtAkM1Kz",
        "outputId": "9f3a65a5-58b4-49ef-bc73-4ef5467b4327"
      },
      "source": [
        "# Interpolate for Pr1\n",
        "temp1Vals = [860, 880]\n",
        "Pr1Vals = [63.09, 68.98]\n",
        "\n",
        "Pr1 = np.interp(T1, temp1Vals, Pr1Vals)\n",
        "print('Pr1: ', Pr1)"
      ],
      "execution_count": null,
      "outputs": [
        {
          "output_type": "stream",
          "name": "stdout",
          "text": [
            "Pr1:  66.96267499999999\n"
          ]
        }
      ]
    },
    {
      "cell_type": "code",
      "metadata": {
        "colab": {
          "base_uri": "https://localhost:8080/"
        },
        "id": "Jidux-_h2lQO",
        "outputId": "2abb8036-78e7-43ba-eb65-ca1a05e6bd10"
      },
      "source": [
        "# Solve for Isentropic Temperature @ Exit using Pr Values in A17\n",
        "Pr2 = Pr1 * (P2 / P1)\n",
        "print('Pr2: ', Pr2)\n",
        "\n",
        "Pr2Vals = [19.84, 20.64]\n",
        "h2sVals = [638.63, 649.22]\n",
        "h2s = np.interp(Pr2, Pr2Vals, h2sVals) # KJ / (kg * K)\n",
        "print('h2s: ', h2s, 'kJ / (kg * K)')\n",
        "h2s = h2s * 1000 # J / (kg * K)\n",
        "print('h2s: ', h2s, 'J / (kg * K)')"
      ],
      "execution_count": null,
      "outputs": [
        {
          "output_type": "stream",
          "name": "stdout",
          "text": [
            "Pr2:  20.37994456521739\n",
            "h2s:  645.7775161820653 kJ / (kg * K)\n",
            "h2s:  645777.5161820652 J / (kg * K)\n"
          ]
        }
      ]
    },
    {
      "cell_type": "code",
      "metadata": {
        "colab": {
          "base_uri": "https://localhost:8080/"
        },
        "id": "HqOuTrLJB352",
        "outputId": "07013610-6f58-4a26-d9ae-27a5a43d083c"
      },
      "source": [
        "# Solve for Isentropic Velocity of the exit\n",
        "V2s = np.sqrt((V1**2) + (2 * (h1 - h2s)))\n",
        "print('Isentropic Velocity: ', V2s, 'm/s')"
      ],
      "execution_count": null,
      "outputs": [
        {
          "output_type": "stream",
          "name": "stdout",
          "text": [
            "Isentropic Velocity:  719.650135576913 m/s\n"
          ]
        }
      ]
    },
    {
      "cell_type": "code",
      "metadata": {
        "colab": {
          "base_uri": "https://localhost:8080/"
        },
        "id": "moQ1rnWtCUZF",
        "outputId": "d8f11749-1606-479e-8a07-349fda55c835"
      },
      "source": [
        "# Solve for the isentropic efficiency of the Nozzle\n",
        "EffNozzle = (V2/V2s)**2\n",
        "print('Nozzle Efficiency: ', EffNozzle)"
      ],
      "execution_count": null,
      "outputs": [
        {
          "output_type": "stream",
          "name": "stdout",
          "text": [
            "Nozzle Efficiency:  0.6430000342928406\n"
          ]
        }
      ]
    },
    {
      "cell_type": "code",
      "metadata": {
        "id": "dc2sfgC0Dhc4"
      },
      "source": [
        ""
      ],
      "execution_count": null,
      "outputs": []
    }
  ]
}