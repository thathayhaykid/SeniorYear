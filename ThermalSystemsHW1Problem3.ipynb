{
  "nbformat": 4,
  "nbformat_minor": 0,
  "metadata": {
    "colab": {
      "name": "ThermalSystemsHW1Problem3",
      "provenance": [],
      "collapsed_sections": [],
      "authorship_tag": "ABX9TyO0xWRWOKnftXlfI3rOicu1",
      "include_colab_link": true
    },
    "kernelspec": {
      "name": "python3",
      "display_name": "Python 3"
    },
    "language_info": {
      "name": "python"
    }
  },
  "cells": [
    {
      "cell_type": "markdown",
      "metadata": {
        "id": "view-in-github",
        "colab_type": "text"
      },
      "source": [
        "<a href=\"https://colab.research.google.com/github/thathayhaykid/SeniorYear/blob/main/ThermalSystemsHW1Problem3.ipynb\" target=\"_parent\"><img src=\"https://colab.research.google.com/assets/colab-badge.svg\" alt=\"Open In Colab\"/></a>"
      ]
    },
    {
      "cell_type": "code",
      "metadata": {
        "id": "aZAzhIvH1k9p"
      },
      "source": [
        "# Thermal Systems Design HW 1\n",
        "# By Haythem Mansour"
      ],
      "execution_count": 2,
      "outputs": []
    },
    {
      "cell_type": "code",
      "metadata": {
        "id": "TLmENt_C1mB0"
      },
      "source": [
        "# Import libraries\n",
        "import numpy as np\n",
        "import sympy as sp"
      ],
      "execution_count": 3,
      "outputs": []
    },
    {
      "cell_type": "code",
      "metadata": {
        "id": "Ka3XxY0f1nDG"
      },
      "source": [
        "# Start making functions to use throughout homework here!\n",
        "def convCtoK(celsius):\n",
        "  kelvin = celsius + 273.15\n",
        "  return kelvin\n",
        "\n",
        "def convKtoC(kelvin):\n",
        "  celsius = kelvin - 273.15\n",
        "  return celsius\n"
      ],
      "execution_count": 4,
      "outputs": []
    },
    {
      "cell_type": "code",
      "metadata": {
        "id": "2Dwa5xNY1oT9"
      },
      "source": [
        "# Define Givens\n",
        "P1 = 230 # kPa\n",
        "T1 = 600 # ºC\n",
        "T1 = convCtoK(T1) #ºK\n",
        "V1 = 60  # m/s\n",
        "\n",
        "P2 = 70 #kPa\n",
        "T2 = 450 # ºC\n",
        "T2 = convCtoK(T2) #ºK\n",
        "\n",
        "CpRegular = 1.005 #KJ / (kg * K)\n",
        "CpConverted = CpRegular * 1000 # J/(kg * K)\n",
        "\n",
        "k = 1.4"
      ],
      "execution_count": 5,
      "outputs": []
    },
    {
      "cell_type": "code",
      "metadata": {
        "colab": {
          "base_uri": "https://localhost:8080/"
        },
        "id": "KoOtZxBP2Mos",
        "outputId": "0e6cd5aa-4458-41a2-a2b2-916a8f8c6de6"
      },
      "source": [
        "# Solve for exit velocity\n",
        "V2 = np.sqrt((V1**2) + (2 * CpConverted * (T1 - T2)))\n",
        "print('Exit Velocity: ', V2, 'm/s')"
      ],
      "execution_count": 6,
      "outputs": [
        {
          "output_type": "stream",
          "name": "stdout",
          "text": [
            "Exit Velocity:  552.358579185659 m/s\n"
          ]
        }
      ]
    },
    {
      "cell_type": "code",
      "metadata": {
        "colab": {
          "base_uri": "https://localhost:8080/"
        },
        "id": "Jidux-_h2lQO",
        "outputId": "47b15330-3a5f-430a-b3c1-0bd0135ba93f"
      },
      "source": [
        "# Solve for Isentropic Temperature of the exit\n",
        "T2s = T1 * (P2 / P1)**((k-1)/k)\n",
        "print('Isentropic Temp: ', T2s, 'K')"
      ],
      "execution_count": 8,
      "outputs": [
        {
          "output_type": "stream",
          "name": "stdout",
          "text": [
            "Isentropic Temp:  621.5561174396794 K\n"
          ]
        }
      ]
    },
    {
      "cell_type": "code",
      "metadata": {
        "colab": {
          "base_uri": "https://localhost:8080/"
        },
        "id": "HqOuTrLJB352",
        "outputId": "ae4691cf-79a4-47f3-d24a-fa1cadc3cde1"
      },
      "source": [
        "# Solve for Isentropic Velocity of the exit\n",
        "V2s = np.sqrt((V1**2) + (2 * CpConverted * (T1 - T2s)))\n",
        "print('Isentropic Velocity: ', V2s, 'm/s')"
      ],
      "execution_count": 11,
      "outputs": [
        {
          "output_type": "stream",
          "name": "stdout",
          "text": [
            "Isentropic Velocity:  713.65517159637 m/s\n"
          ]
        }
      ]
    },
    {
      "cell_type": "code",
      "metadata": {
        "colab": {
          "base_uri": "https://localhost:8080/"
        },
        "id": "moQ1rnWtCUZF",
        "outputId": "3a8fec85-b3d9-4c9d-b268-23909fd082bd"
      },
      "source": [
        "# Solve for the isentropic efficiency of the Nozzle\n",
        "EffNozzle = (V2/V2s)**2\n",
        "print('Nozzle Efficiency: ', EffNozzle)"
      ],
      "execution_count": 12,
      "outputs": [
        {
          "output_type": "stream",
          "name": "stdout",
          "text": [
            "Nozzle Efficiency:  0.599053173255937\n"
          ]
        }
      ]
    },
    {
      "cell_type": "code",
      "metadata": {
        "id": "dc2sfgC0Dhc4"
      },
      "source": [
        ""
      ],
      "execution_count": null,
      "outputs": []
    }
  ]
}