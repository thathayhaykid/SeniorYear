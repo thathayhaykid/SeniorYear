{
  "nbformat": 4,
  "nbformat_minor": 0,
  "metadata": {
    "colab": {
      "name": "ThermalsSystemsHW3Problemx3-6",
      "provenance": [],
      "collapsed_sections": [],
      "authorship_tag": "ABX9TyP0/epLKd5qYZBrAEgAch2e",
      "include_colab_link": true
    },
    "kernelspec": {
      "name": "python3",
      "display_name": "Python 3"
    },
    "language_info": {
      "name": "python"
    }
  },
  "cells": [
    {
      "cell_type": "markdown",
      "metadata": {
        "id": "view-in-github",
        "colab_type": "text"
      },
      "source": [
        "<a href=\"https://colab.research.google.com/github/thathayhaykid/SeniorYear/blob/main/ThermalsSystemsHW3Problemx3_6.ipynb\" target=\"_parent\"><img src=\"https://colab.research.google.com/assets/colab-badge.svg\" alt=\"Open In Colab\"/></a>"
      ]
    },
    {
      "cell_type": "markdown",
      "metadata": {
        "id": "1XmiDryypb7m"
      },
      "source": [
        "#Thermal Systems Design Homework 3\n",
        "\n",
        "#### Problem X3-6 Solution\n",
        "#### By: Haythem Mansour"
      ]
    },
    {
      "cell_type": "markdown",
      "metadata": {
        "id": "FHM8UqyhppVU"
      },
      "source": [
        "### Import Libraries"
      ]
    },
    {
      "cell_type": "code",
      "metadata": {
        "id": "vQvzCJcHpLBD"
      },
      "source": [
        "import numpy as np\n",
        "import sympy as sp"
      ],
      "execution_count": 3,
      "outputs": []
    },
    {
      "cell_type": "markdown",
      "metadata": {
        "id": "8IiBgiI1p5bY"
      },
      "source": [
        "## Define Givens"
      ]
    },
    {
      "cell_type": "code",
      "metadata": {
        "id": "3O7VesyupaQQ"
      },
      "source": [
        "r = 10 #Comp Ratio\n",
        "k = 1.4 #Cp Cv Ratio\n",
        "qh = 820 # kj / kg[air]\n",
        "displacement = 1.8 #L\n",
        "P1 = 30 #kpa\n",
        "T1 = 290 #K\n",
        "R = .2870\n",
        "Vintake = .070"
      ],
      "execution_count": 18,
      "outputs": []
    },
    {
      "cell_type": "markdown",
      "metadata": {
        "id": "HyLdbC7mulfC"
      },
      "source": [
        "## Solve for thermal efficiency"
      ]
    },
    {
      "cell_type": "code",
      "metadata": {
        "id": "5t7gl1Lfp4yu"
      },
      "source": [
        "effTh = 1 - (1 / ((r)**(k-1)))"
      ],
      "execution_count": 15,
      "outputs": []
    },
    {
      "cell_type": "code",
      "metadata": {
        "colab": {
          "base_uri": "https://localhost:8080/"
        },
        "id": "TtosE4BmumFi",
        "outputId": "1f371c32-cae5-472e-f08b-7698f18e23be"
      },
      "source": [
        "print('Thermal Efficiency: ', effTh, '%')"
      ],
      "execution_count": 28,
      "outputs": [
        {
          "output_type": "stream",
          "name": "stdout",
          "text": [
            "Thermal Efficiency:  0.6018928294465027 %\n"
          ]
        }
      ]
    },
    {
      "cell_type": "markdown",
      "metadata": {
        "id": "pM5RNlITvXpG"
      },
      "source": [
        "## Solve for Wdot, net"
      ]
    },
    {
      "cell_type": "markdown",
      "metadata": {
        "id": "e_OWRbNI1cl9"
      },
      "source": [
        "### Solve for mdot"
      ]
    },
    {
      "cell_type": "code",
      "metadata": {
        "id": "gS8fuaAuvVuS"
      },
      "source": [
        "density = P1/(R * T1)\n",
        "mdot = density * Vintake"
      ],
      "execution_count": 21,
      "outputs": []
    },
    {
      "cell_type": "code",
      "metadata": {
        "colab": {
          "base_uri": "https://localhost:8080/"
        },
        "id": "pbiUWr651KAC",
        "outputId": "d9f5e3a5-8881-466a-8f1a-a44123390916"
      },
      "source": [
        "print('Density of Air: ', density)\n",
        "print('Mdot: ', mdot)"
      ],
      "execution_count": 24,
      "outputs": [
        {
          "output_type": "stream",
          "name": "stdout",
          "text": [
            "Density of Air:  0.36044695422323686\n",
            "Mdot:  0.025231286795626584\n"
          ]
        }
      ]
    },
    {
      "cell_type": "markdown",
      "metadata": {
        "id": "8bUwmH2M2FAO"
      },
      "source": [
        "### Solve for Wdot, out"
      ]
    },
    {
      "cell_type": "code",
      "metadata": {
        "id": "TA3poc7n1Lzs"
      },
      "source": [
        "Wdotnet = effTh * mdot * qh"
      ],
      "execution_count": 25,
      "outputs": []
    },
    {
      "cell_type": "code",
      "metadata": {
        "colab": {
          "base_uri": "https://localhost:8080/"
        },
        "id": "S-8Fzq602VJi",
        "outputId": "253bb397-63f8-4886-d294-ca49a1acc856"
      },
      "source": [
        "print('Wdotnet: ', Wdotnet, 'kW')"
      ],
      "execution_count": 27,
      "outputs": [
        {
          "output_type": "stream",
          "name": "stdout",
          "text": [
            "Wdotnet:  12.45295509199661 kW\n"
          ]
        }
      ]
    }
  ]
}