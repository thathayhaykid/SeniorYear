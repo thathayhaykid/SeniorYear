{
  "nbformat": 4,
  "nbformat_minor": 0,
  "metadata": {
    "colab": {
      "name": "ThermalsSystemsHW3Problemx3-9",
      "provenance": [],
      "collapsed_sections": [],
      "authorship_tag": "ABX9TyMm5DxJIlYJ5bk4TpnRGfb8",
      "include_colab_link": true
    },
    "kernelspec": {
      "name": "python3",
      "display_name": "Python 3"
    },
    "language_info": {
      "name": "python"
    }
  },
  "cells": [
    {
      "cell_type": "markdown",
      "metadata": {
        "id": "view-in-github",
        "colab_type": "text"
      },
      "source": [
        "<a href=\"https://colab.research.google.com/github/thathayhaykid/SeniorYear/blob/main/ThermalsSystemsHW3Problemx3_9.ipynb\" target=\"_parent\"><img src=\"https://colab.research.google.com/assets/colab-badge.svg\" alt=\"Open In Colab\"/></a>"
      ]
    },
    {
      "cell_type": "markdown",
      "metadata": {
        "id": "1XmiDryypb7m"
      },
      "source": [
        "#Thermal Systems Design Homework 3\n",
        "\n",
        "#### Problem X3-9 Solution\n",
        "#### By: Haythem Mansour"
      ]
    },
    {
      "cell_type": "markdown",
      "metadata": {
        "id": "FHM8UqyhppVU"
      },
      "source": [
        "### Import Libraries"
      ]
    },
    {
      "cell_type": "code",
      "metadata": {
        "id": "vQvzCJcHpLBD"
      },
      "source": [
        "import numpy as np\n",
        "import sympy as sp"
      ],
      "execution_count": 45,
      "outputs": []
    },
    {
      "cell_type": "markdown",
      "metadata": {
        "id": "Mcd9Y9qGP0lR"
      },
      "source": [
        "### Functions we build through the process"
      ]
    },
    {
      "cell_type": "code",
      "metadata": {
        "id": "OfXpM1PqP55S"
      },
      "source": [
        "def interpolate(x, Xlist, Ylist):\n",
        "  m = (Ylist[1] - Ylist[0]) / (Xlist[1] - Xlist[0])\n",
        "  return Ylist[0] + (m * (x - Xlist[0]))"
      ],
      "execution_count": 46,
      "outputs": []
    },
    {
      "cell_type": "markdown",
      "metadata": {
        "id": "8IiBgiI1p5bY"
      },
      "source": [
        "## Define Givens"
      ]
    },
    {
      "cell_type": "code",
      "metadata": {
        "id": "3O7VesyupaQQ"
      },
      "source": [
        "P1 = 200 #kPa\n",
        "P3 = 1.2 #mPa\n",
        "effComp = .85\n",
        "mdotair = .6 #kg/s"
      ],
      "execution_count": 47,
      "outputs": []
    },
    {
      "cell_type": "code",
      "metadata": {
        "colab": {
          "base_uri": "https://localhost:8080/"
        },
        "id": "1LX7CV_RYY8Q",
        "outputId": "ab91d1db-a826-43e7-d258-e38ba28b7171"
      },
      "source": [
        "print('P3: ', P3, 'kPa')\n",
        "print('mdotair: ', mdotair, 'kg/s')"
      ],
      "execution_count": 48,
      "outputs": [
        {
          "output_type": "stream",
          "name": "stdout",
          "text": [
            "P3:  1.2 kPa\n",
            "mdotair:  0.6 kg/s\n"
          ]
        }
      ]
    },
    {
      "cell_type": "markdown",
      "metadata": {
        "id": "yHy8BZTMYxJb"
      },
      "source": [
        "## Solve for h2s & h4"
      ]
    },
    {
      "cell_type": "code",
      "metadata": {
        "id": "VtXtsOereKbs"
      },
      "source": [
        "#Values from tables\n",
        "h1 = 244.46 #kJ / kg\n",
        "s1 = 0.93773 # kJ / kg * k\n",
        "\n",
        "h3 = 117.77 #kJ/kg\n",
        "s3 = 0.42441 #kJ / kg * k\n",
        "\n",
        "s2 = s1\n",
        "h4 = h3"
      ],
      "execution_count": 49,
      "outputs": []
    },
    {
      "cell_type": "code",
      "metadata": {
        "id": "v48i6K4PYvNp"
      },
      "source": [
        "sVals = [0.9267, 0.9614]\n",
        "hVals = [278.27, 289.64]\n",
        "h2s = interpolate(s1, sVals, hVals)"
      ],
      "execution_count": 50,
      "outputs": []
    },
    {
      "cell_type": "code",
      "metadata": {
        "colab": {
          "base_uri": "https://localhost:8080/"
        },
        "id": "JiBc7cQkYnoB",
        "outputId": "cdc30d6e-47ed-4ee3-e401-f8834b3120ea"
      },
      "source": [
        "print('h2s: ', h2s, 'kJ / kg')"
      ],
      "execution_count": 51,
      "outputs": [
        {
          "output_type": "stream",
          "name": "stdout",
          "text": [
            "h2s:  281.8841527377521 kJ / kg\n"
          ]
        }
      ]
    },
    {
      "cell_type": "markdown",
      "metadata": {
        "id": "jR0Hqm2afKXq"
      },
      "source": [
        "## Solve for h2, actual"
      ]
    },
    {
      "cell_type": "code",
      "metadata": {
        "id": "gdzDsqEAe4JQ"
      },
      "source": [
        "Wscomp = h2s - h1\n",
        "Wa = Wscomp / effComp\n",
        "h2a = h1 + Wa"
      ],
      "execution_count": 52,
      "outputs": []
    },
    {
      "cell_type": "code",
      "metadata": {
        "colab": {
          "base_uri": "https://localhost:8080/"
        },
        "id": "lelZpFtefI3J",
        "outputId": "7b4a26ff-afd7-4855-97cb-ac4e015dd41c"
      },
      "source": [
        "print('Ws, comp: ', Wscomp, 'kJ/kg')\n",
        "print('Wa, comp: ', Wa, 'kJ/kg')\n",
        "print('h2, actual: ', h2a, 'kJ/kg')"
      ],
      "execution_count": 53,
      "outputs": [
        {
          "output_type": "stream",
          "name": "stdout",
          "text": [
            "Ws, comp:  37.42415273775211 kJ/kg\n",
            "Wa, comp:  44.02841498559072 kJ/kg\n",
            "h2, actual:  288.48841498559074 kJ/kg\n"
          ]
        }
      ]
    },
    {
      "cell_type": "markdown",
      "metadata": {
        "id": "43KBMUrBgKzw"
      },
      "source": [
        "## Solve for T2, actual"
      ]
    },
    {
      "cell_type": "code",
      "metadata": {
        "id": "2zn0_ZkLgNXy"
      },
      "source": [
        "hVals = [278.27, 289.64]\n",
        "TVals = [50, 60]\n",
        "\n",
        "T2 = interpolate(h2a, hVals, TVals)"
      ],
      "execution_count": 54,
      "outputs": []
    },
    {
      "cell_type": "code",
      "metadata": {
        "colab": {
          "base_uri": "https://localhost:8080/"
        },
        "id": "ygf6spo5gcGg",
        "outputId": "c1942b26-93c6-4306-afab-ec74b807f4c5"
      },
      "source": [
        "print('T2, a: ', T2, 'Degrees C')"
      ],
      "execution_count": 55,
      "outputs": [
        {
          "output_type": "stream",
          "name": "stdout",
          "text": [
            "T2, a:  58.987172370792216 Degrees C\n"
          ]
        }
      ]
    },
    {
      "cell_type": "markdown",
      "metadata": {
        "id": "_zcuJCsygUUb"
      },
      "source": [
        "## Solve for Wdot, comp"
      ]
    },
    {
      "cell_type": "markdown",
      "metadata": {
        "id": "yvDIxVwngbZc"
      },
      "source": [
        "### Solve for COPr\n"
      ]
    },
    {
      "cell_type": "code",
      "metadata": {
        "id": "RWCoqt2PfXJP"
      },
      "source": [
        "COPhp = (h2a - h3) / Wa"
      ],
      "execution_count": 56,
      "outputs": []
    },
    {
      "cell_type": "code",
      "metadata": {
        "colab": {
          "base_uri": "https://localhost:8080/"
        },
        "id": "Lg6vW77cghce",
        "outputId": "421d8475-cf97-498e-932e-f51a28484fad"
      },
      "source": [
        "print('COPhp', COPhp)"
      ],
      "execution_count": 57,
      "outputs": [
        {
          "output_type": "stream",
          "name": "stdout",
          "text": [
            "COPhp 3.877459932215642\n"
          ]
        }
      ]
    },
    {
      "cell_type": "markdown",
      "metadata": {
        "id": "fDuUXN5cgqkK"
      },
      "source": [
        "### Solve for Qdot, cool"
      ]
    },
    {
      "cell_type": "markdown",
      "metadata": {
        "id": "WVoBAtB3iMsv"
      },
      "source": [
        "#### Get average Values"
      ]
    },
    {
      "cell_type": "code",
      "metadata": {
        "id": "iir06uBZgmlP"
      },
      "source": [
        "Tin = 5\n",
        "Tout = 35\n",
        "Tavg = (Tin + Tout)/2\n",
        "TavgK = Tavg + 273.15"
      ],
      "execution_count": 58,
      "outputs": []
    },
    {
      "cell_type": "code",
      "metadata": {
        "colab": {
          "base_uri": "https://localhost:8080/"
        },
        "id": "s50Km-MohNUU",
        "outputId": "ee7ef011-b442-4ab6-f6e2-38d56af8f26b"
      },
      "source": [
        "print('Tavg, C: ', Tavg, 'C')\n",
        "print('Tavg, K: ', TavgK, 'K')"
      ],
      "execution_count": 59,
      "outputs": [
        {
          "output_type": "stream",
          "name": "stdout",
          "text": [
            "Tavg, C:  20.0 C\n",
            "Tavg, K:  293.15 K\n"
          ]
        }
      ]
    },
    {
      "cell_type": "code",
      "metadata": {
        "id": "CkAmfzLziAs-"
      },
      "source": [
        "Cpair = 1.005 #kj/kg * k\n",
        "k = 1.400"
      ],
      "execution_count": 60,
      "outputs": []
    },
    {
      "cell_type": "markdown",
      "metadata": {
        "id": "rM0IEQoTifZB"
      },
      "source": [
        "#### Actually solve for Qdotcool"
      ]
    },
    {
      "cell_type": "code",
      "metadata": {
        "id": "qARUcNrwid6i"
      },
      "source": [
        "Qdotheat = mdotair * Cpair * (Tout - Tin)"
      ],
      "execution_count": 61,
      "outputs": []
    },
    {
      "cell_type": "code",
      "metadata": {
        "colab": {
          "base_uri": "https://localhost:8080/"
        },
        "id": "IQOUgyRViuGg",
        "outputId": "9d89c0ce-a6eb-4b4f-ed8d-b29e7c81a3d2"
      },
      "source": [
        "print(\"Qdot, heat: \", Qdotheat, 'kW')"
      ],
      "execution_count": 62,
      "outputs": [
        {
          "output_type": "stream",
          "name": "stdout",
          "text": [
            "Qdot, heat:  18.089999999999996 kW\n"
          ]
        }
      ]
    },
    {
      "cell_type": "markdown",
      "metadata": {
        "id": "KKOqHGXdi0Al"
      },
      "source": [
        "## Solve for Wdot, Comp"
      ]
    },
    {
      "cell_type": "code",
      "metadata": {
        "id": "XGEOLjmeixdu"
      },
      "source": [
        "Wdotcomp = Qdotheat / COPhp"
      ],
      "execution_count": 63,
      "outputs": []
    },
    {
      "cell_type": "code",
      "metadata": {
        "colab": {
          "base_uri": "https://localhost:8080/"
        },
        "id": "zmd5HEWii3x8",
        "outputId": "2e66d15f-1f6a-4c00-cc2a-0ae51c9c2522"
      },
      "source": [
        "print('Wdotcomp', Wdotcomp, 'kW')"
      ],
      "execution_count": 64,
      "outputs": [
        {
          "output_type": "stream",
          "name": "stdout",
          "text": [
            "Wdotcomp 4.665425385753267 kW\n"
          ]
        }
      ]
    },
    {
      "cell_type": "code",
      "metadata": {
        "id": "-Zn49da0i6dV"
      },
      "source": [
        ""
      ],
      "execution_count": 64,
      "outputs": []
    }
  ]
}