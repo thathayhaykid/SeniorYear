{
  "nbformat": 4,
  "nbformat_minor": 0,
  "metadata": {
    "colab": {
      "name": "ThermalSystemsTest1Problem1",
      "provenance": [],
      "collapsed_sections": [],
      "authorship_tag": "ABX9TyMci7iHKgJ3GZDjvMi94580",
      "include_colab_link": true
    },
    "kernelspec": {
      "name": "python3",
      "display_name": "Python 3"
    },
    "language_info": {
      "name": "python"
    }
  },
  "cells": [
    {
      "cell_type": "markdown",
      "metadata": {
        "id": "view-in-github",
        "colab_type": "text"
      },
      "source": [
        "<a href=\"https://colab.research.google.com/github/thathayhaykid/SeniorYear/blob/main/ThermalSystemsTest1Problem1.ipynb\" target=\"_parent\"><img src=\"https://colab.research.google.com/assets/colab-badge.svg\" alt=\"Open In Colab\"/></a>"
      ]
    },
    {
      "cell_type": "code",
      "metadata": {
        "id": "C3KK1wBJGTZ2"
      },
      "source": [
        "# Thermal Systems Design TEST 1 PROBLEM 1\n",
        "# By Haythem Mansour"
      ],
      "execution_count": 40,
      "outputs": []
    },
    {
      "cell_type": "code",
      "metadata": {
        "id": "nuHuebKLGbhV"
      },
      "source": [
        "#Import libraries\n",
        "import numpy as np"
      ],
      "execution_count": 41,
      "outputs": []
    },
    {
      "cell_type": "code",
      "metadata": {
        "id": "dciM0dC4HUwP"
      },
      "source": [
        "#Start making functions to use throughout homework here!\n",
        "def convCtoK(celsius):\n",
        "  kelvin = celsius + 273.15\n",
        "  return kelvin\n",
        "\n",
        "def convKtoC(kelvin):\n",
        "  celsius = kelvin - 273.15\n",
        "  return celsius\n"
      ],
      "execution_count": 42,
      "outputs": []
    },
    {
      "cell_type": "code",
      "metadata": {
        "id": "hIzDVb_CGgaa"
      },
      "source": [
        "# PROBLEM 2\n",
        "# Define Givens\n",
        "T1 = float(300) #K\n",
        "T3 = float(390) #K\n",
        "T4 = float(10) #C\n",
        "T5 = float(40) #C\n",
        "\n",
        "P1 = 80 #kPa\n",
        "P2 = 300 #kPa\n",
        "P3 = 300 #kPa\n",
        "\n",
        "mdotair = 1.2 #kg/s\n",
        "effcomp = 0.70"
      ],
      "execution_count": 43,
      "outputs": []
    },
    {
      "cell_type": "code",
      "metadata": {
        "colab": {
          "base_uri": "https://localhost:8080/"
        },
        "id": "sHEGc1NsH772",
        "outputId": "32a06b3a-e200-48aa-a976-6648e030dcf0"
      },
      "source": [
        "#Convert to Kelvin\n",
        "T4 = convCtoK(T4)\n",
        "T5 = convCtoK(T5)\n",
        "print('T1:', T1, 'T3:', T3, 'T4:', T4, 'T5', T5)"
      ],
      "execution_count": 44,
      "outputs": [
        {
          "output_type": "stream",
          "name": "stdout",
          "text": [
            "T1: 300.0 T3: 390.0 T4: 283.15 T5 313.15\n"
          ]
        }
      ]
    },
    {
      "cell_type": "code",
      "metadata": {
        "id": "T6peBOY080e7",
        "colab": {
          "base_uri": "https://localhost:8080/"
        },
        "outputId": "8b6ca604-715a-45f4-93bf-0dc0854f4b17"
      },
      "source": [
        "# Get values h1, pr1 from Table A-17\n",
        "# Then solve for Pr2\n",
        "h1 = 300.19 #kJ/kg\n",
        "Pr1 = 1.3860\n",
        "print('h1:', h1)\n",
        "print('pr1:', Pr1)\n",
        "\n",
        "Pr2 = Pr1 * (P2/P1)\n",
        "print('Pr2:', Pr2)"
      ],
      "execution_count": 45,
      "outputs": [
        {
          "output_type": "stream",
          "name": "stdout",
          "text": [
            "h1: 300.19\n",
            "pr1: 1.386\n",
            "Pr2: 5.1975\n"
          ]
        }
      ]
    },
    {
      "cell_type": "code",
      "metadata": {
        "colab": {
          "base_uri": "https://localhost:8080/"
        },
        "id": "w4FHK2XTDvAo",
        "outputId": "13c07fb9-6005-48a7-d5cd-77bc1ab21665"
      },
      "source": [
        "# Solve for T2s & H2s using interpolation\n",
        "PrVals = [4.915, 5.332]\n",
        "hVals = [431.43, 441.61]\n",
        "\n",
        "h2s = np.interp(Pr2, PrVals, hVals)\n",
        "print('h2s:', h2s)"
      ],
      "execution_count": 46,
      "outputs": [
        {
          "output_type": "stream",
          "name": "stdout",
          "text": [
            "h2s: 438.3265227817746\n"
          ]
        }
      ]
    },
    {
      "cell_type": "code",
      "metadata": {
        "colab": {
          "base_uri": "https://localhost:8080/"
        },
        "id": "tczloYPHFezQ",
        "outputId": "d0d76ba8-f6cb-4def-cd27-fbf13e4611bc"
      },
      "source": [
        "# Solve for Ws & Wa & h2a\n",
        "Ws = h2s - h1\n",
        "Wa = Ws / effcomp\n",
        "h2 = Wa + h1\n",
        "\n",
        "print('Ws: ', Ws)\n",
        "print('Wa: ', Wa)\n",
        "print('h2: ', h2)"
      ],
      "execution_count": 47,
      "outputs": [
        {
          "output_type": "stream",
          "name": "stdout",
          "text": [
            "Ws:  138.1365227817746\n",
            "Wa:  197.33788968824945\n",
            "h2:  497.52788968824945\n"
          ]
        }
      ]
    },
    {
      "cell_type": "code",
      "metadata": {
        "colab": {
          "base_uri": "https://localhost:8080/"
        },
        "id": "fwq8_JMXG9sL",
        "outputId": "b2eddba8-dfce-4d61-c76d-eb72abae626a"
      },
      "source": [
        "# Solve for Wdotcompressor\n",
        "Wdotcomp = mdotair * Wa\n",
        "print('Wdotcomp:', Wdotcomp)"
      ],
      "execution_count": 48,
      "outputs": [
        {
          "output_type": "stream",
          "name": "stdout",
          "text": [
            "Wdotcomp: 236.80546762589933\n"
          ]
        }
      ]
    },
    {
      "cell_type": "code",
      "metadata": {
        "colab": {
          "base_uri": "https://localhost:8080/"
        },
        "id": "-1aDmZNjIOHA",
        "outputId": "cedc40dc-ef4e-420d-e931-9f632b364455"
      },
      "source": [
        "# Get vals for h3 using table A-17\n",
        "h3 = 290.16\n",
        "print('h3:', h3)"
      ],
      "execution_count": 49,
      "outputs": [
        {
          "output_type": "stream",
          "name": "stdout",
          "text": [
            "h3: 290.16\n"
          ]
        }
      ]
    },
    {
      "cell_type": "code",
      "metadata": {
        "colab": {
          "base_uri": "https://localhost:8080/"
        },
        "id": "TsUVK2vZJslL",
        "outputId": "6482e3e0-7b3f-4b5e-e7e6-599e84587c0d"
      },
      "source": [
        "# Solve for Qdot\n",
        "Qdot = mdotair * (h2 - h3)\n",
        "print('Qdot:', Qdot)"
      ],
      "execution_count": 50,
      "outputs": [
        {
          "output_type": "stream",
          "name": "stdout",
          "text": [
            "Qdot: 248.8414676258993\n"
          ]
        }
      ]
    },
    {
      "cell_type": "code",
      "metadata": {
        "colab": {
          "base_uri": "https://localhost:8080/"
        },
        "id": "OkC-6DMJKrKw",
        "outputId": "a267bd05-b3f0-4f1f-c302-1d2d97b81571"
      },
      "source": [
        "# Get h4 & h5 from table A-4\n",
        "h4 = 42.022 #kJ/kg\n",
        "h5 = 167.53 #kJ/kg\n",
        "\n",
        "mdotair45 = Qdot / (h5 - h4)\n",
        "print('mdot for process 4 - 5:', mdotair45)"
      ],
      "execution_count": 51,
      "outputs": [
        {
          "output_type": "stream",
          "name": "stdout",
          "text": [
            "mdot for process 4 - 5: 1.9826741532483927\n"
          ]
        }
      ]
    },
    {
      "cell_type": "code",
      "metadata": {
        "id": "hCfrGIIiMhp5"
      },
      "source": [
        ""
      ],
      "execution_count": 51,
      "outputs": []
    }
  ]
}