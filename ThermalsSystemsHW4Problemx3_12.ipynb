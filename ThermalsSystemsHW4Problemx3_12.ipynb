{
  "nbformat": 4,
  "nbformat_minor": 0,
  "metadata": {
    "colab": {
      "name": "ThermalsSystemsHW4Problemx3-12",
      "provenance": [],
      "collapsed_sections": [],
      "authorship_tag": "ABX9TyNwj/LFGqzMAm3G8kz8pqA8",
      "include_colab_link": true
    },
    "kernelspec": {
      "name": "python3",
      "display_name": "Python 3"
    },
    "language_info": {
      "name": "python"
    }
  },
  "cells": [
    {
      "cell_type": "markdown",
      "metadata": {
        "id": "view-in-github",
        "colab_type": "text"
      },
      "source": [
        "<a href=\"https://colab.research.google.com/github/thathayhaykid/SeniorYear/blob/main/ThermalsSystemsHW4Problemx3_12.ipynb\" target=\"_parent\"><img src=\"https://colab.research.google.com/assets/colab-badge.svg\" alt=\"Open In Colab\"/></a>"
      ]
    },
    {
      "cell_type": "markdown",
      "metadata": {
        "id": "1XmiDryypb7m"
      },
      "source": [
        "#Thermal Systems Design Homework 4\n",
        "\n",
        "#### Problem X3-12 Solution\n",
        "#### By: Haythem Mansour"
      ]
    },
    {
      "cell_type": "markdown",
      "metadata": {
        "id": "FHM8UqyhppVU"
      },
      "source": [
        "### Import Libraries"
      ]
    },
    {
      "cell_type": "code",
      "metadata": {
        "id": "vQvzCJcHpLBD"
      },
      "source": [
        "import numpy as np\n",
        "import sympy as sp"
      ],
      "execution_count": 18,
      "outputs": []
    },
    {
      "cell_type": "markdown",
      "metadata": {
        "id": "Mcd9Y9qGP0lR"
      },
      "source": [
        "### Functions we build through the process"
      ]
    },
    {
      "cell_type": "code",
      "metadata": {
        "id": "OfXpM1PqP55S"
      },
      "source": [
        "def interpolate(x, Xlist, Ylist):\n",
        "  m = (Ylist[1] - Ylist[0]) / (Xlist[1] - Xlist[0])\n",
        "  return Ylist[0] + (m * (x - Xlist[0]))"
      ],
      "execution_count": 19,
      "outputs": []
    },
    {
      "cell_type": "markdown",
      "metadata": {
        "id": "8IiBgiI1p5bY"
      },
      "source": [
        "## Define Givens"
      ]
    },
    {
      "cell_type": "code",
      "metadata": {
        "id": "D838RT-ZCXwj"
      },
      "source": [
        "Vdotwater = 1.2 #GPM\n",
        "To = 110 #F\n",
        "Tf = 100 #F\n",
        "Tin = 70 #F\n",
        "Qdotwater = 12000 #Btu / hr\n",
        "Vtotal = 9\n",
        "density = 61.991 # lbm / ft^3\n",
        "Cp = 1.00 #Btu / lbm * R"
      ],
      "execution_count": 20,
      "outputs": []
    },
    {
      "cell_type": "code",
      "metadata": {
        "id": "MFmyA5-Pxu2e"
      },
      "source": [
        "Tau = Vtotal / Vdotwater"
      ],
      "execution_count": 21,
      "outputs": []
    },
    {
      "cell_type": "code",
      "metadata": {
        "colab": {
          "base_uri": "https://localhost:8080/"
        },
        "id": "9mxUj5KTxwbv",
        "outputId": "9e033647-3c2c-4a14-b6e5-1782ee282201"
      },
      "source": [
        "print('Tau: ', Tau, '1/s')"
      ],
      "execution_count": 22,
      "outputs": [
        {
          "output_type": "stream",
          "name": "stdout",
          "text": [
            "Tau:  7.5 1/s\n"
          ]
        }
      ]
    },
    {
      "cell_type": "markdown",
      "metadata": {
        "id": "_EQREzxavQ_0"
      },
      "source": [
        "### Convert Vdotwater"
      ]
    },
    {
      "cell_type": "code",
      "metadata": {
        "id": "sSgFx-kBvPjp"
      },
      "source": [
        "Vdotwater = Vdotwater * (0.035147 / 0.264172)"
      ],
      "execution_count": 23,
      "outputs": []
    },
    {
      "cell_type": "code",
      "metadata": {
        "colab": {
          "base_uri": "https://localhost:8080/"
        },
        "id": "hUhUAgr0vWBk",
        "outputId": "26f35f3e-84db-470b-d672-4d4f1f6a67a2"
      },
      "source": [
        "print('Vdotwater: ', Vdotwater, 'ft^3 / min')"
      ],
      "execution_count": 24,
      "outputs": [
        {
          "output_type": "stream",
          "name": "stdout",
          "text": [
            "Vdotwater:  0.1596550732098784 ft^3 / min\n"
          ]
        }
      ]
    },
    {
      "cell_type": "code",
      "metadata": {
        "id": "Qm4uBhoLvg8L"
      },
      "source": [
        "Vdotwater = Vdotwater * 60"
      ],
      "execution_count": 25,
      "outputs": []
    },
    {
      "cell_type": "code",
      "metadata": {
        "colab": {
          "base_uri": "https://localhost:8080/"
        },
        "id": "a-Iw_qOOv0J_",
        "outputId": "b890fbe0-127e-4284-84e4-25ca865aac5e"
      },
      "source": [
        "print('Vdotwater: ', Vdotwater, 'ft^3 / hr')"
      ],
      "execution_count": 26,
      "outputs": [
        {
          "output_type": "stream",
          "name": "stdout",
          "text": [
            "Vdotwater:  9.579304392592704 ft^3 / hr\n"
          ]
        }
      ]
    },
    {
      "cell_type": "markdown",
      "metadata": {
        "id": "HBusiDfewjwg"
      },
      "source": [
        "## Solve for mass flow rate"
      ]
    },
    {
      "cell_type": "code",
      "metadata": {
        "id": "6htSAoY_wcbn"
      },
      "source": [
        "mdotwater = density * Vdotwater"
      ],
      "execution_count": 27,
      "outputs": []
    },
    {
      "cell_type": "code",
      "metadata": {
        "colab": {
          "base_uri": "https://localhost:8080/"
        },
        "id": "O7wEOXYUwrw_",
        "outputId": "b7e8d730-6e76-4cf3-a8ac-1f9fb10b3403"
      },
      "source": [
        "print('Mdotwater: ', mdotwater, 'lbm / hr')"
      ],
      "execution_count": 28,
      "outputs": [
        {
          "output_type": "stream",
          "name": "stdout",
          "text": [
            "Mdotwater:  593.8306586012143 lbm / hr\n"
          ]
        }
      ]
    },
    {
      "cell_type": "markdown",
      "metadata": {
        "id": "rXap8CsUx_-C"
      },
      "source": [
        "## Solve for Tsteady-state"
      ]
    },
    {
      "cell_type": "code",
      "metadata": {
        "id": "tOWmu64Aw2Zq"
      },
      "source": [
        "Tss = Tin + ( (Qdotwater) / (mdotwater * Cp))"
      ],
      "execution_count": 29,
      "outputs": []
    },
    {
      "cell_type": "code",
      "metadata": {
        "colab": {
          "base_uri": "https://localhost:8080/"
        },
        "id": "SogH6vBuyUt_",
        "outputId": "8f1056eb-9f29-4cca-e26d-cb06498c38b8"
      },
      "source": [
        "print('Tss: ', Tss, 'F')"
      ],
      "execution_count": 31,
      "outputs": [
        {
          "output_type": "stream",
          "name": "stdout",
          "text": [
            "Tss:  90.20778116823129 F\n"
          ]
        }
      ]
    },
    {
      "cell_type": "markdown",
      "metadata": {
        "id": "41sr1AuYzDTF"
      },
      "source": [
        "## Solve for the time it takes to go from T(110) -> T(100)"
      ]
    },
    {
      "cell_type": "code",
      "metadata": {
        "id": "No8q3ysfyZmi"
      },
      "source": [
        "t = - Tau * np.log( (Tf - Tss) / (To - Tss))"
      ],
      "execution_count": 34,
      "outputs": []
    },
    {
      "cell_type": "code",
      "metadata": {
        "colab": {
          "base_uri": "https://localhost:8080/"
        },
        "id": "bt5G2PoGzP82",
        "outputId": "b57b4edc-35e2-4f86-a2a8-022d8803009b"
      },
      "source": [
        "print('Time: ', t, 'min')"
      ],
      "execution_count": 36,
      "outputs": [
        {
          "output_type": "stream",
          "name": "stdout",
          "text": [
            "Time:  5.277755989724932 min\n"
          ]
        }
      ]
    },
    {
      "cell_type": "code",
      "metadata": {
        "id": "XzHNekHxzZD3"
      },
      "source": [
        ""
      ],
      "execution_count": null,
      "outputs": []
    }
  ]
}