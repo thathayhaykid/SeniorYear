{
  "nbformat": 4,
  "nbformat_minor": 0,
  "metadata": {
    "colab": {
      "name": "ThermalsSystemsHW3Problemx3-7",
      "provenance": [],
      "collapsed_sections": [],
      "authorship_tag": "ABX9TyPxTjmHIvGZaJu5DgoCo+XN",
      "include_colab_link": true
    },
    "kernelspec": {
      "name": "python3",
      "display_name": "Python 3"
    },
    "language_info": {
      "name": "python"
    }
  },
  "cells": [
    {
      "cell_type": "markdown",
      "metadata": {
        "id": "view-in-github",
        "colab_type": "text"
      },
      "source": [
        "<a href=\"https://colab.research.google.com/github/thathayhaykid/SeniorYear/blob/main/ThermalsSystemsHW3Problemx3_7.ipynb\" target=\"_parent\"><img src=\"https://colab.research.google.com/assets/colab-badge.svg\" alt=\"Open In Colab\"/></a>"
      ]
    },
    {
      "cell_type": "markdown",
      "metadata": {
        "id": "1XmiDryypb7m"
      },
      "source": [
        "#Thermal Systems Design Homework 3\n",
        "\n",
        "#### Problem X3-7 Solution\n",
        "#### By: Haythem Mansour"
      ]
    },
    {
      "cell_type": "markdown",
      "metadata": {
        "id": "FHM8UqyhppVU"
      },
      "source": [
        "### Import Libraries"
      ]
    },
    {
      "cell_type": "code",
      "metadata": {
        "id": "vQvzCJcHpLBD"
      },
      "source": [
        "import numpy as np\n",
        "import sympy as sp"
      ],
      "execution_count": 27,
      "outputs": []
    },
    {
      "cell_type": "markdown",
      "metadata": {
        "id": "Mcd9Y9qGP0lR"
      },
      "source": [
        "### Functions we build through the process"
      ]
    },
    {
      "cell_type": "code",
      "metadata": {
        "id": "OfXpM1PqP55S"
      },
      "source": [
        "def interpolate(x, Xlist, Ylist):\n",
        "  m = (Ylist[1] - Ylist[0]) / (Xlist[1] - Xlist[0])\n",
        "  return Ylist[0] + (m * (x - Xlist[0]))"
      ],
      "execution_count": 61,
      "outputs": []
    },
    {
      "cell_type": "markdown",
      "metadata": {
        "id": "8IiBgiI1p5bY"
      },
      "source": [
        "## Define Givens"
      ]
    },
    {
      "cell_type": "code",
      "metadata": {
        "id": "3O7VesyupaQQ"
      },
      "source": [
        "r = 10 #Comp Ratio\n",
        "k = 1.4 #Cp Cv Ratio\n",
        "qh = 820 # kj / kg[air]\n",
        "displacement = 1.8 #L\n",
        "P1 = 30 #kpa\n",
        "T1 = 290 #K\n",
        "Vintake = .070"
      ],
      "execution_count": 62,
      "outputs": []
    },
    {
      "cell_type": "markdown",
      "metadata": {
        "id": "gbReaOa-LkJp"
      },
      "source": [
        "## Solve for T2, h2, u2"
      ]
    },
    {
      "cell_type": "markdown",
      "metadata": {
        "id": "Y0Dyed1pLr00"
      },
      "source": [
        "### Get values from T.A-17 for T1 = 290 K"
      ]
    },
    {
      "cell_type": "code",
      "metadata": {
        "id": "8b6hRIZ8LneU"
      },
      "source": [
        "h1 = 290.16 #kJ/kg\n",
        "u1 = 206.91 #kJ/kg\n",
        "Vr1 = 676.1"
      ],
      "execution_count": 63,
      "outputs": []
    },
    {
      "cell_type": "markdown",
      "metadata": {
        "id": "BlJ38pJhL9sm"
      },
      "source": [
        "### Solve for Vr2"
      ]
    },
    {
      "cell_type": "code",
      "metadata": {
        "id": "Rxqh6vvbL_hG"
      },
      "source": [
        "Vr2 = (1/r) * Vr1"
      ],
      "execution_count": 64,
      "outputs": []
    },
    {
      "cell_type": "code",
      "metadata": {
        "colab": {
          "base_uri": "https://localhost:8080/"
        },
        "id": "UkEWiHWYMDPZ",
        "outputId": "9df788d9-37bd-469c-8ac8-fcf7d0b8b438"
      },
      "source": [
        "print('Vr2: ', Vr2)"
      ],
      "execution_count": 65,
      "outputs": [
        {
          "output_type": "stream",
          "name": "stdout",
          "text": [
            "Vr2:  67.61\n"
          ]
        }
      ]
    },
    {
      "cell_type": "markdown",
      "metadata": {
        "id": "KqBC-XHHMeKu"
      },
      "source": [
        "### Interpolate values from T.A-17 to solve for T2, h2, and u2"
      ]
    },
    {
      "cell_type": "code",
      "metadata": {
        "id": "QrgSsLnnMGz1"
      },
      "source": [
        "VrVals = [69.76, 67.07]\n",
        "TempVals = [700.0, 710.0]\n",
        "uVals = [512.33, 520.23]\n",
        "hVals = [713.27, 724.04]"
      ],
      "execution_count": 66,
      "outputs": []
    },
    {
      "cell_type": "code",
      "metadata": {
        "id": "KBoLMnQyNFib"
      },
      "source": [
        "T2 = interpolate(Vr2, VrVals, TempVals)\n",
        "u2 = interpolate(Vr2, VrVals, uVals)\n",
        "h2 = interpolate(Vr2, VrVals, hVals)"
      ],
      "execution_count": 67,
      "outputs": []
    },
    {
      "cell_type": "code",
      "metadata": {
        "colab": {
          "base_uri": "https://localhost:8080/"
        },
        "id": "-JEuHVDJNNDR",
        "outputId": "3cdb4ff8-7bea-44a6-ba46-48b5e1698062"
      },
      "source": [
        "print('T2: ', T2, 'K')\n",
        "print('u2: ', u2, 'kJ/kg')\n",
        "print('h2: ', h2, 'kJ/kg')"
      ],
      "execution_count": 68,
      "outputs": [
        {
          "output_type": "stream",
          "name": "stdout",
          "text": [
            "T2:  707.992565055762 K\n",
            "u2:  518.644126394052 kJ/kg\n",
            "h2:  721.8779925650557 kJ/kg\n"
          ]
        }
      ]
    },
    {
      "cell_type": "markdown",
      "metadata": {
        "id": "vxMQ1xxmRmUj"
      },
      "source": [
        "## Solve for T3, u3, h3"
      ]
    },
    {
      "cell_type": "markdown",
      "metadata": {
        "id": "cYvW8DVSR1vq"
      },
      "source": [
        "### Solve for u3"
      ]
    },
    {
      "cell_type": "code",
      "metadata": {
        "id": "mNrkkDNTRmCU"
      },
      "source": [
        "u3 = u2 + qh"
      ],
      "execution_count": 70,
      "outputs": []
    },
    {
      "cell_type": "code",
      "metadata": {
        "colab": {
          "base_uri": "https://localhost:8080/"
        },
        "id": "Rx6DsDsASFrm",
        "outputId": "abee0a98-9443-47a3-b706-85d4a68aa839"
      },
      "source": [
        "print('u3: ', u3, 'kJ/kg')"
      ],
      "execution_count": 71,
      "outputs": [
        {
          "output_type": "stream",
          "name": "stdout",
          "text": [
            "u3:  1338.644126394052 kJ/kg\n"
          ]
        }
      ]
    },
    {
      "cell_type": "markdown",
      "metadata": {
        "id": "79FudYYcR5Gw"
      },
      "source": [
        "### Interpolate T.A-17 for T3, h3"
      ]
    },
    {
      "cell_type": "code",
      "metadata": {
        "id": "QuhzjVm_NP6Q"
      },
      "source": [
        "uVals = [1335.72, 1354.48]\n",
        "tempVals = [1640, 1660]\n",
        "hVals = [1806.46, 1830.46]\n",
        "VrVals = [5.355, 5.147]"
      ],
      "execution_count": 72,
      "outputs": []
    },
    {
      "cell_type": "code",
      "metadata": {
        "id": "9kSmXr_7Sfcv"
      },
      "source": [
        "T3 = interpolate(u3, uVals, tempVals)\n",
        "h3 = interpolate(u3, uVals, hVals)\n",
        "Vr3 = interpolate(u3, uVals, VrVals)"
      ],
      "execution_count": 73,
      "outputs": []
    },
    {
      "cell_type": "code",
      "metadata": {
        "colab": {
          "base_uri": "https://localhost:8080/"
        },
        "id": "_Xh8_WLkSrkV",
        "outputId": "5812f76f-73d3-476f-a1ad-f810136da33a"
      },
      "source": [
        "print('T3: ', T3, 'K')\n",
        "print('h3: ', h3, 'kJ/kg')\n",
        "print('Vr3: ', Vr3)"
      ],
      "execution_count": 74,
      "outputs": [
        {
          "output_type": "stream",
          "name": "stdout",
          "text": [
            "T3:  1643.1174055373688 K\n",
            "h3:  1810.2008866448425 kJ/kg\n",
            "Vr3:  5.322578982411366\n"
          ]
        }
      ]
    },
    {
      "cell_type": "markdown",
      "metadata": {
        "id": "YvtYzrftTj7e"
      },
      "source": [
        "## Solve for T4, u4, h4"
      ]
    },
    {
      "cell_type": "markdown",
      "metadata": {
        "id": "mPsQXyCeTpzg"
      },
      "source": [
        "### Solve for Vr4"
      ]
    },
    {
      "cell_type": "code",
      "metadata": {
        "id": "OE0RSttVTpmA"
      },
      "source": [
        "Vr4 = r * Vr3"
      ],
      "execution_count": 75,
      "outputs": []
    },
    {
      "cell_type": "code",
      "metadata": {
        "colab": {
          "base_uri": "https://localhost:8080/"
        },
        "id": "iw5dJXG9TjlP",
        "outputId": "ffe98d5e-10e9-4411-e718-2dd182eaa603"
      },
      "source": [
        "print('Vr4: ', Vr4)"
      ],
      "execution_count": 76,
      "outputs": [
        {
          "output_type": "stream",
          "name": "stdout",
          "text": [
            "Vr4:  53.225789824113654\n"
          ]
        }
      ]
    },
    {
      "cell_type": "markdown",
      "metadata": {
        "id": "scwsTv3ETzhM"
      },
      "source": [
        "### Interpolate for T4, u4, h4"
      ]
    },
    {
      "cell_type": "code",
      "metadata": {
        "id": "-WlCC7JZS0Iv"
      },
      "source": [
        "VrVals = [55.54, 51.64]\n",
        "tempVals = [760, 780]\n",
        "hVals = [778.18, 800.03]\n",
        "uVals = [560.01, 576.12]"
      ],
      "execution_count": 77,
      "outputs": []
    },
    {
      "cell_type": "code",
      "metadata": {
        "id": "1KG5QZzWUKZl"
      },
      "source": [
        "T4 = interpolate(Vr4, VrVals, tempVals)\n",
        "h4 = interpolate(Vr4, VrVals, hVals)\n",
        "u4 = interpolate(Vr4, VrVals, uVals)"
      ],
      "execution_count": 79,
      "outputs": []
    },
    {
      "cell_type": "code",
      "metadata": {
        "colab": {
          "base_uri": "https://localhost:8080/"
        },
        "id": "2bLFnA5-UWMo",
        "outputId": "2c7b5fd9-9a55-42fd-ef29-9bf6ea527c63"
      },
      "source": [
        "print('T4: ', T4, 'K')\n",
        "print('h4: ', h4, 'kJ/kg')\n",
        "print('u4 :', u4, 'kJ/kg')"
      ],
      "execution_count": 81,
      "outputs": [
        {
          "output_type": "stream",
          "name": "stdout",
          "text": [
            "T4:  771.8677444917248 K\n",
            "h4:  791.1455108572094 kJ/kg\n",
            "u4 : 569.5694681880843 kJ/kg\n"
          ]
        }
      ]
    },
    {
      "cell_type": "markdown",
      "metadata": {
        "id": "HleJL6H1VH04"
      },
      "source": [
        "## Solve for Thermal Efficiency"
      ]
    },
    {
      "cell_type": "code",
      "metadata": {
        "id": "Koc97naTUd8Z"
      },
      "source": [
        "ql = u4 - u1"
      ],
      "execution_count": 82,
      "outputs": []
    },
    {
      "cell_type": "code",
      "metadata": {
        "id": "k1LVll8-VMpD"
      },
      "source": [
        "effTh = 1 - (ql / qh)"
      ],
      "execution_count": 83,
      "outputs": []
    },
    {
      "cell_type": "code",
      "metadata": {
        "colab": {
          "base_uri": "https://localhost:8080/"
        },
        "id": "DIWK0J3UVP1P",
        "outputId": "7939fe39-f945-4368-8063-a6936fc0c85e"
      },
      "source": [
        "print('ql: ', ql, 'kJ/kg')\n",
        "print('Thermal Efficiency: ', effTh)"
      ],
      "execution_count": 87,
      "outputs": [
        {
          "output_type": "stream",
          "name": "stdout",
          "text": [
            "ql:  362.65946818808436 kJ/kg\n",
            "Thermal Efficiency:  0.5577323558681898\n"
          ]
        }
      ]
    },
    {
      "cell_type": "markdown",
      "metadata": {
        "id": "tRCYeOcNXZaJ"
      },
      "source": [
        "## Solve for Wdot, net"
      ]
    },
    {
      "cell_type": "markdown",
      "metadata": {
        "id": "863N1liRXb9k"
      },
      "source": [
        "### Solve for mdot"
      ]
    },
    {
      "cell_type": "code",
      "metadata": {
        "id": "dPd1uy4YVTkp"
      },
      "source": [
        "mdot = (P1 / (R * T1)) * Vintake"
      ],
      "execution_count": 88,
      "outputs": []
    },
    {
      "cell_type": "code",
      "metadata": {
        "colab": {
          "base_uri": "https://localhost:8080/"
        },
        "id": "cBacL9gmXhca",
        "outputId": "e5c51514-6250-4e48-85d3-e850f3cfa954"
      },
      "source": [
        "print('mdot: ', mdot, 'kg / s')"
      ],
      "execution_count": 89,
      "outputs": [
        {
          "output_type": "stream",
          "name": "stdout",
          "text": [
            "mdot:  0.025231286795626584 kg / s\n"
          ]
        }
      ]
    },
    {
      "cell_type": "markdown",
      "metadata": {
        "id": "llL5-h-VXtbj"
      },
      "source": [
        "### Solve for Wdot, net"
      ]
    },
    {
      "cell_type": "code",
      "metadata": {
        "id": "98ISEtWWXl4v"
      },
      "source": [
        "Wdotnet = effTh * mdot * qh"
      ],
      "execution_count": 90,
      "outputs": []
    },
    {
      "cell_type": "code",
      "metadata": {
        "colab": {
          "base_uri": "https://localhost:8080/"
        },
        "id": "nf2u94GaXyj3",
        "outputId": "082b3594-47a3-45e0-d327-cb84b39862c6"
      },
      "source": [
        "print('Wdotnet: ', Wdotnet, 'kW')"
      ],
      "execution_count": 91,
      "outputs": [
        {
          "output_type": "stream",
          "name": "stdout",
          "text": [
            "Wdotnet:  11.539290121410827 kW\n"
          ]
        }
      ]
    }
  ]
}