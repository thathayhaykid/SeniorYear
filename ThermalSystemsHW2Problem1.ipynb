{
  "nbformat": 4,
  "nbformat_minor": 0,
  "metadata": {
    "colab": {
      "name": "ThermalSystemsHW2Problem1",
      "provenance": [],
      "collapsed_sections": [],
      "authorship_tag": "ABX9TyPvDlLA+c+Qhgt/hUUvmc34",
      "include_colab_link": true
    },
    "kernelspec": {
      "name": "python3",
      "display_name": "Python 3"
    },
    "language_info": {
      "name": "python"
    }
  },
  "cells": [
    {
      "cell_type": "markdown",
      "metadata": {
        "id": "view-in-github",
        "colab_type": "text"
      },
      "source": [
        "<a href=\"https://colab.research.google.com/github/thathayhaykid/SeniorYear/blob/main/ThermalSystemsHW2Problem1.ipynb\" target=\"_parent\"><img src=\"https://colab.research.google.com/assets/colab-badge.svg\" alt=\"Open In Colab\"/></a>"
      ]
    },
    {
      "cell_type": "code",
      "metadata": {
        "id": "a9iA8wXMikYA"
      },
      "source": [
        "# Thermal Systems Design HW 1\n",
        "# By Haythem Mansour"
      ],
      "execution_count": 1,
      "outputs": []
    },
    {
      "cell_type": "code",
      "metadata": {
        "id": "E1lJwbk0iveM"
      },
      "source": [
        "# Import libraries\n",
        "import numpy as np\n",
        "import sympy as sp"
      ],
      "execution_count": 2,
      "outputs": []
    },
    {
      "cell_type": "code",
      "metadata": {
        "id": "lsCt1KDVivyw"
      },
      "source": [
        "# Start making functions to use throughout homework here!\n",
        "def convCtoK(celsius):\n",
        "  kelvin = celsius + 273.15\n",
        "  return kelvin\n",
        "\n",
        "def convKtoC(kelvin):\n",
        "  celsius = kelvin - 273.15\n",
        "  return celsius\n"
      ],
      "execution_count": 3,
      "outputs": []
    },
    {
      "cell_type": "code",
      "metadata": {
        "colab": {
          "base_uri": "https://localhost:8080/"
        },
        "id": "y0b4lBogiw6b",
        "outputId": "ad888185-5b1c-4f16-add5-c82292d712ed"
      },
      "source": [
        "# Problem X3 - 5\n",
        "# Define Givens\n",
        "Diameter = 42 / 1000 # m\n",
        "Po = 80 #kPa\n",
        "To = 290 #K\n",
        "P1 = 30 #kPa\n",
        "RPM = 4200 #RPM\n",
        "R = 10 #Compression Ratio\n",
        "Liters = 1.8\n",
        "numCyl = 4 # 4 Cylinders\n",
        "A = (np.pi / 4) * (Diameter**2)\n",
        "Cp = 1005 # J / (kg * K)\n",
        "print('Area: ', A, 'm^2')"
      ],
      "execution_count": 40,
      "outputs": [
        {
          "output_type": "stream",
          "name": "stdout",
          "text": [
            "Area:  0.001385442360233099 m^2\n"
          ]
        }
      ]
    },
    {
      "cell_type": "code",
      "metadata": {
        "colab": {
          "base_uri": "https://localhost:8080/"
        },
        "id": "xxcFZuqojcAD",
        "outputId": "d1a8dd33-9c27-43eb-8d59-dd8b1b2ed8a9"
      },
      "source": [
        "# Solve for Vmax1\n",
        "Vmax1 = ((1/4) * (Liters * 0.001) ) / (1 - (1/R))\n",
        "print('Vmax1: ', Vmax1, 'm^3')"
      ],
      "execution_count": 41,
      "outputs": [
        {
          "output_type": "stream",
          "name": "stdout",
          "text": [
            "Vmax1:  0.0005 m^3\n"
          ]
        }
      ]
    },
    {
      "cell_type": "code",
      "metadata": {
        "colab": {
          "base_uri": "https://localhost:8080/"
        },
        "id": "RtBJWnJOj1z2",
        "outputId": "19f13242-ee79-4cb3-a99c-a52e50507282"
      },
      "source": [
        "# Solve for Volumetric Flow 1 for a 4 Cylinder 4 Stroke engine!!!\n",
        "VFlow1 = Vmax1 * (RPM / 2) * (1/60)\n",
        "print('VFlow1: ', VFlow1, 'm^3 / s')\n",
        "VFlowIntake = numCyl * VFlow1\n",
        "print('VFlowIntake: ', VFlowIntake, 'm^3 / s')"
      ],
      "execution_count": 42,
      "outputs": [
        {
          "output_type": "stream",
          "name": "stdout",
          "text": [
            "VFlow1:  0.0175 m^3 / s\n",
            "VFlowIntake:  0.07 m^3 / s\n"
          ]
        }
      ]
    },
    {
      "cell_type": "code",
      "metadata": {
        "colab": {
          "base_uri": "https://localhost:8080/"
        },
        "id": "UnTdmS_gkWGS",
        "outputId": "39690d56-6984-48f4-8f52-6153aa104b9e"
      },
      "source": [
        "# Solve for Velocity at 1\n",
        "V1 = VFlowIntake / A\n",
        "print('V1: ', V1, 'm/s')"
      ],
      "execution_count": 43,
      "outputs": [
        {
          "output_type": "stream",
          "name": "stdout",
          "text": [
            "V1:  50.52537875933185 m/s\n"
          ]
        }
      ]
    },
    {
      "cell_type": "code",
      "metadata": {
        "colab": {
          "base_uri": "https://localhost:8080/"
        },
        "id": "5FHTVI-flauy",
        "outputId": "fe24c299-9c46-4f32-ad91-f2d20295c761"
      },
      "source": [
        "# Setup roots to use root finder\n",
        "A1 = (-Cp)\n",
        "A2 = ((Cp * To) - ((V1**2)/2))\n",
        "A3 = 0\n",
        "A4 = (1/2) * (((P1 * To * V1) / Po) ** 2)\n",
        "coeffs = [A1, A2, A3, A4]\n",
        "Roots = np.roots(coeffs)\n",
        "print('Roots: ', Roots)\n",
        "print('T1: ', Roots[0], 'K')\n",
        "T1 = Roots[0]"
      ],
      "execution_count": 51,
      "outputs": [
        {
          "output_type": "stream",
          "name": "stdout",
          "text": [
            "Roots:  [ 2.88909895e+02+0.j         -8.99760244e-02+7.20984271j\n",
            " -8.99760244e-02-7.20984271j]\n",
            "T1:  (288.9098953827182+0j) K\n"
          ]
        }
      ]
    },
    {
      "cell_type": "code",
      "metadata": {
        "colab": {
          "base_uri": "https://localhost:8080/"
        },
        "id": "v6EJQMEwr3iO",
        "outputId": "1e02fe38-4473-4b4d-a48a-3d90a6b5cd7a"
      },
      "source": [
        "# Solve for Density 1\n",
        "R = 0.2870 # KJ / (Kg * K)\n",
        "Density1 = P1 / (R * T1)\n",
        "print(Density1)"
      ],
      "execution_count": 53,
      "outputs": [
        {
          "output_type": "stream",
          "name": "stdout",
          "text": [
            "(0.36180697994531674+0j)\n"
          ]
        }
      ]
    },
    {
      "cell_type": "code",
      "metadata": {
        "colab": {
          "base_uri": "https://localhost:8080/"
        },
        "id": "VrlsK9kptJo3",
        "outputId": "93e3c0da-ee80-4262-c8be-d099e40d87a1"
      },
      "source": [
        "# Solve for mass flow rate\n",
        "massflowrate = Density1 * A * V1\n",
        "print('Mdotair: ', massflowrate, 'kg/s')"
      ],
      "execution_count": 54,
      "outputs": [
        {
          "output_type": "stream",
          "name": "stdout",
          "text": [
            "Mdotair:  (0.025326488596172175+0j) kg/s\n"
          ]
        }
      ]
    },
    {
      "cell_type": "code",
      "metadata": {
        "id": "BSOd7kkztmfI"
      },
      "source": [
        ""
      ],
      "execution_count": null,
      "outputs": []
    }
  ]
}