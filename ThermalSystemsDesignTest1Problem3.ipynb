{
  "nbformat": 4,
  "nbformat_minor": 0,
  "metadata": {
    "colab": {
      "name": "ThermalSystemsDesignTest1Problem3",
      "provenance": [],
      "collapsed_sections": [],
      "authorship_tag": "ABX9TyNGsdp8dnr2EAjd2h3nosLB",
      "include_colab_link": true
    },
    "kernelspec": {
      "name": "python3",
      "display_name": "Python 3"
    },
    "language_info": {
      "name": "python"
    }
  },
  "cells": [
    {
      "cell_type": "markdown",
      "metadata": {
        "id": "view-in-github",
        "colab_type": "text"
      },
      "source": [
        "<a href=\"https://colab.research.google.com/github/thathayhaykid/SeniorYear/blob/main/ThermalSystemsDesignTest1Problem3.ipynb\" target=\"_parent\"><img src=\"https://colab.research.google.com/assets/colab-badge.svg\" alt=\"Open In Colab\"/></a>"
      ]
    },
    {
      "cell_type": "markdown",
      "metadata": {
        "id": "1XmiDryypb7m"
      },
      "source": [
        "#Thermal Systems Design Test 1\n",
        "\n",
        "#### Problem 3 Solution\n",
        "#### By: Haythem Mansour"
      ]
    },
    {
      "cell_type": "markdown",
      "metadata": {
        "id": "FHM8UqyhppVU"
      },
      "source": [
        "### Import Libraries"
      ]
    },
    {
      "cell_type": "code",
      "metadata": {
        "id": "vQvzCJcHpLBD"
      },
      "source": [
        "import numpy as np\n",
        "import sympy as sp"
      ],
      "execution_count": 53,
      "outputs": []
    },
    {
      "cell_type": "markdown",
      "metadata": {
        "id": "Mcd9Y9qGP0lR"
      },
      "source": [
        "### Functions we build through the process"
      ]
    },
    {
      "cell_type": "code",
      "metadata": {
        "id": "OfXpM1PqP55S"
      },
      "source": [
        "def interpolate(x, Xlist, Ylist):\n",
        "  m = (Ylist[1] - Ylist[0]) / (Xlist[1] - Xlist[0])\n",
        "  return Ylist[0] + (m * (x - Xlist[0]))"
      ],
      "execution_count": 54,
      "outputs": []
    },
    {
      "cell_type": "markdown",
      "metadata": {
        "id": "8IiBgiI1p5bY"
      },
      "source": [
        "## Define Givens"
      ]
    },
    {
      "cell_type": "code",
      "metadata": {
        "id": "D838RT-ZCXwj"
      },
      "source": [
        "Vdotwater = 0.25 #GPM\n",
        "Vdotwater = Vdotwater * 8.02083 #ft^3/hr\n",
        "P1 = 30 #psia\n",
        "P3 = 140 #psia\n",
        "effComp = 0.7"
      ],
      "execution_count": 55,
      "outputs": []
    },
    {
      "cell_type": "markdown",
      "metadata": {
        "id": "niDqMfXdkXGa"
      },
      "source": [
        "## Get values from Tables"
      ]
    },
    {
      "cell_type": "code",
      "metadata": {
        "id": "XfjfeM6fkWC-"
      },
      "source": [
        "h1 = 105.32 #Btu / lbm\n",
        "s1 = 0.22383 # Btu / (lbm * R)\n",
        "h3 = 45.304 #Btu / lbm\n",
        "h4 = h3"
      ],
      "execution_count": 56,
      "outputs": []
    },
    {
      "cell_type": "markdown",
      "metadata": {
        "id": "YEZjTEpxkpNc"
      },
      "source": [
        "## Solve for h2a"
      ]
    },
    {
      "cell_type": "code",
      "metadata": {
        "id": "-kXUJknPkl20"
      },
      "source": [
        "s2s = s1"
      ],
      "execution_count": 57,
      "outputs": []
    },
    {
      "cell_type": "code",
      "metadata": {
        "id": "-hLfC3Q2konm"
      },
      "source": [
        "sVals = [0.21879, 0.22773]\n",
        "hVals = [116.26, 121.35]\n",
        "h2s = interpolate(s2s, sVals, hVals)"
      ],
      "execution_count": 58,
      "outputs": []
    },
    {
      "cell_type": "code",
      "metadata": {
        "id": "un-jH0fhlZOJ"
      },
      "source": [
        "ws = h2s - h1\n",
        "wa = ws / effComp"
      ],
      "execution_count": 59,
      "outputs": []
    },
    {
      "cell_type": "code",
      "metadata": {
        "id": "b3bYVYvjmHUb"
      },
      "source": [
        "h2a = wa + h1"
      ],
      "execution_count": 60,
      "outputs": []
    },
    {
      "cell_type": "code",
      "metadata": {
        "colab": {
          "base_uri": "https://localhost:8080/"
        },
        "id": "l1f_VDrMk8r-",
        "outputId": "b74dd644-7107-4cba-e7cd-05ff2a551f77"
      },
      "source": [
        "print(\"h2s: \", h2s, 'Btu / lbm')\n",
        "print('ws: ', ws, 'Btu / lbm')\n",
        "print('wa: ', wa, 'Btu / lbm')\n",
        "print('h2a :', h2a, 'Btu / lbm')"
      ],
      "execution_count": 61,
      "outputs": [
        {
          "output_type": "stream",
          "name": "stdout",
          "text": [
            "h2s:  119.12953020134228 Btu / lbm\n",
            "ws:  13.809530201342284 Btu / lbm\n",
            "wa:  19.727900287631837 Btu / lbm\n",
            "h2a : 125.04790028763183 Btu / lbm\n"
          ]
        }
      ]
    },
    {
      "cell_type": "markdown",
      "metadata": {
        "id": "kyYzuyZ8m6y7"
      },
      "source": [
        "## Solve for COPr"
      ]
    },
    {
      "cell_type": "code",
      "metadata": {
        "id": "2kLr3wWAlKfx"
      },
      "source": [
        "COPr = (h1 - h4) / wa"
      ],
      "execution_count": 62,
      "outputs": []
    },
    {
      "cell_type": "code",
      "metadata": {
        "colab": {
          "base_uri": "https://localhost:8080/"
        },
        "id": "aF_wyLPxm-7C",
        "outputId": "dd0de402-6a74-4c76-aea5-a8573273ecdf"
      },
      "source": [
        "print('COPr :', COPr)"
      ],
      "execution_count": 63,
      "outputs": [
        {
          "output_type": "stream",
          "name": "stdout",
          "text": [
            "COPr : 3.0421889367327286\n"
          ]
        }
      ]
    },
    {
      "cell_type": "markdown",
      "metadata": {
        "id": "8xeoTrq0qCuk"
      },
      "source": [
        "## Start solving for Wdotcomp"
      ]
    },
    {
      "cell_type": "markdown",
      "metadata": {
        "id": "gHjVrg1BqF78"
      },
      "source": [
        "### Solve for mdotair"
      ]
    },
    {
      "cell_type": "code",
      "metadata": {
        "id": "I_VRM3_dn_wU"
      },
      "source": [
        "densityWater = 62.3 #lbm / ft^3"
      ],
      "execution_count": 64,
      "outputs": []
    },
    {
      "cell_type": "code",
      "metadata": {
        "id": "2ycmfeHGoZ-R"
      },
      "source": [
        "mdotwater = densityWater * Vdotwater"
      ],
      "execution_count": 65,
      "outputs": []
    },
    {
      "cell_type": "code",
      "metadata": {
        "colab": {
          "base_uri": "https://localhost:8080/"
        },
        "id": "4UNsJpbroJkh",
        "outputId": "5536b8c6-9915-45b5-e13c-896d74cc1788"
      },
      "source": [
        "print('Vdot water: ', Vdotwater, 'ft^3/hr')\n",
        "print('Air Density: ', densityWater, 'lbm / ft^3')\n",
        "print('mdotwater: ', mdotwater, 'lbm / hr')"
      ],
      "execution_count": 66,
      "outputs": [
        {
          "output_type": "stream",
          "name": "stdout",
          "text": [
            "Vdot water:  2.0052075 ft^3/hr\n",
            "Air Density:  62.3 lbm / ft^3\n",
            "mdotwater:  124.92442725 lbm / hr\n"
          ]
        }
      ]
    },
    {
      "cell_type": "code",
      "metadata": {
        "id": "mMAhheBaqSF4"
      },
      "source": [
        "Cpwater = 1.001 # Btu / lbm * R"
      ],
      "execution_count": 67,
      "outputs": []
    },
    {
      "cell_type": "code",
      "metadata": {
        "id": "QNC8ASbgLDqt"
      },
      "source": [
        "Tin = 80 #F\n",
        "Tout = 35 #F"
      ],
      "execution_count": 68,
      "outputs": []
    },
    {
      "cell_type": "code",
      "metadata": {
        "id": "Oo-g3BGLqzG2"
      },
      "source": [
        "Qdotcool = mdotwater * Cpwater * (Tin - Tout)"
      ],
      "execution_count": 69,
      "outputs": []
    },
    {
      "cell_type": "code",
      "metadata": {
        "colab": {
          "base_uri": "https://localhost:8080/"
        },
        "id": "keh24v7Mq2Ar",
        "outputId": "cc53dd9b-08cc-40b1-8eff-192a98dc5263"
      },
      "source": [
        "print('Qdotcool: ', Qdotcool, 'Btu / hr')"
      ],
      "execution_count": 70,
      "outputs": [
        {
          "output_type": "stream",
          "name": "stdout",
          "text": [
            "Qdotcool:  5627.220825476249 Btu / hr\n"
          ]
        }
      ]
    },
    {
      "cell_type": "markdown",
      "metadata": {
        "id": "QDQSjw7irbSa"
      },
      "source": [
        "### Solve for Wdotcomp"
      ]
    },
    {
      "cell_type": "code",
      "metadata": {
        "id": "TBR_6OqPq6oV"
      },
      "source": [
        "Wdotcomp = Qdotcool / COPr\n",
        "Wdotcomphp = Wdotcomp * (1.341 / 3412.14)"
      ],
      "execution_count": 71,
      "outputs": []
    },
    {
      "cell_type": "code",
      "metadata": {
        "colab": {
          "base_uri": "https://localhost:8080/"
        },
        "id": "TQqwSAFnre2Z",
        "outputId": "4389a869-206d-4d76-be06-d055c6bfa3da"
      },
      "source": [
        "print('Wdotcomp: ', Wdotcomp, 'Btu / hr')\n",
        "print('Wdotcomp: ', Wdotcomphp, 'hp')"
      ],
      "execution_count": 72,
      "outputs": [
        {
          "output_type": "stream",
          "name": "stdout",
          "text": [
            "Wdotcomp:  1849.7275949993464 Btu / hr\n",
            "Wdotcomp:  0.7269586549479574 hp\n"
          ]
        }
      ]
    },
    {
      "cell_type": "code",
      "metadata": {
        "id": "VfzmlbsIrirS"
      },
      "source": [
        ""
      ],
      "execution_count": 72,
      "outputs": []
    }
  ]
}